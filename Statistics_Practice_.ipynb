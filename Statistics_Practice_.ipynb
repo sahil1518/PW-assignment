{
  "nbformat": 4,
  "nbformat_minor": 0,
  "metadata": {
    "colab": {
      "provenance": []
    },
    "kernelspec": {
      "name": "python3",
      "display_name": "Python 3"
    },
    "language_info": {
      "name": "python"
    }
  },
  "cells": [
    {
      "cell_type": "code",
      "execution_count": 28,
      "metadata": {
        "id": "2c3JmRmdYnFE"
      },
      "outputs": [],
      "source": []
    },
    {
      "cell_type": "markdown",
      "source": [
        "Statistics Practice Questions"
      ],
      "metadata": {
        "id": "2uZKYEj_J0-r"
      }
    },
    {
      "cell_type": "markdown",
      "source": [
        "1."
      ],
      "metadata": {
        "id": "E1vhDn7dKdiQ"
      }
    },
    {
      "cell_type": "code",
      "source": [
        "\n",
        "\n",
        "\n",
        "import random\n",
        "\n",
        "# Generate the list\n",
        "int_list = [random.randint(90, 130) for _ in range(1000)]\n",
        "\n",
        "\n",
        "\n",
        "def calculate_mean(numbers):\n",
        "    return sum(numbers) / len(numbers)\n",
        "\n",
        "# Calculate mean\n",
        "mean = calculate_mean(int_list)\n",
        "print(f\"Mean: {mean}\")\n",
        "\n",
        "\n",
        "\n",
        "import statistics\n",
        "\n",
        "def calculate_median(numbers):\n",
        "    return statistics.median(numbers)\n",
        "\n",
        "# Calculate median\n",
        "median = calculate_median(int_list)\n",
        "print(f\"Median: {median}\")\n",
        "\n",
        "\n",
        "from statistics import mode, StatisticsError\n",
        "\n",
        "def calculate_mode(numbers):\n",
        "    try:\n",
        "        return mode(numbers)\n",
        "    except StatisticsError:\n",
        "        return \"No unique mode\"\n",
        "\n",
        "# Calculate mode\n",
        "mode_value = calculate_mode(int_list)\n",
        "print(f\"Mode: {mode_value}\")\n",
        "\n",
        "def calculate_weighted_mean(values, weights):\n",
        "    return sum(v * w for v, w in zip(values, weights)) / sum(weights)\n",
        "\n",
        "# Example usage (weights must be the same length as values)\n",
        "values = [10, 20, 30]\n",
        "weights = [1, 2, 3]\n",
        "weighted_mean = calculate_weighted_mean(values, weights)\n",
        "print(f\"Weighted Mean: {weighted_mean}\")\n",
        "\n",
        "import numpy as np\n",
        "\n",
        "def calculate_geometric_mean(numbers):\n",
        "    return np.exp(np.mean(np.log(numbers)))\n",
        "\n",
        "# Calculate geometric mean\n",
        "geometric_mean = calculate_geometric_mean([x for x in int_list if x > 0])\n",
        "print(f\"Geometric Mean: {geometric_mean}\")\n",
        "\n",
        "def calculate_harmonic_mean(numbers):\n",
        "    return len(numbers) / sum(1/x for x in numbers)\n",
        "\n",
        "# Calculate harmonic mean\n",
        "harmonic_mean = calculate_harmonic_mean([x for x in int_list if x > 0])\n",
        "print(f\"Harmonic Mean: {harmonic_mean}\")\n",
        "\n",
        "def calculate_midrange(numbers):\n",
        "    return (min(numbers) + max(numbers)) / 2\n",
        "\n",
        "# Calculate midrange\n",
        "midrange = calculate_midrange(int_list)\n",
        "print(f\"Midrange: {midrange}\")\n",
        "\n",
        "def calculate_trimmed_mean(numbers, proportion_to_trim):\n",
        "    sorted_numbers = sorted(numbers)\n",
        "    n = len(sorted_numbers)\n",
        "    k = int(n * proportion_to_trim / 2)\n",
        "    trimmed_numbers = sorted_numbers[k:-k]\n",
        "    return calculate_mean(trimmed_numbers)\n",
        "\n",
        "# Calculate trimmed mean (e.g., trimming 10% of the data)\n",
        "trimmed_mean = calculate_trimmed_mean(int_list, 0.1)\n",
        "print(f\"Trimmed Mean: {trimmed_mean}\")\n",
        "\n",
        "\n",
        "\n",
        "\n",
        "\n"
      ],
      "metadata": {
        "colab": {
          "base_uri": "https://localhost:8080/"
        },
        "id": "ufqJpqKbJ7Pj",
        "outputId": "31018a2b-3992-4748-884f-3579cbf24803"
      },
      "execution_count": 29,
      "outputs": [
        {
          "output_type": "stream",
          "name": "stdout",
          "text": [
            "Mean: 110.129\n",
            "Median: 110.0\n",
            "Mode: 103\n",
            "Weighted Mean: 23.333333333333332\n",
            "Geometric Mean: 109.49744891668598\n",
            "Harmonic Mean: 108.86338370085444\n",
            "Midrange: 110.0\n",
            "Trimmed Mean: 110.13\n"
          ]
        }
      ]
    },
    {
      "cell_type": "markdown",
      "source": [
        "2."
      ],
      "metadata": {
        "id": "Km4BkvF5KmK3"
      }
    },
    {
      "cell_type": "code",
      "source": [
        "int_list2 = [random.randint(200, 300) for _ in range(500)]\n",
        "\n",
        "# Range\n",
        "range_val = max(int_list2) - min(int_list2)\n",
        "\n",
        "# Variance & Standard Deviation\n",
        "variance = np.var(int_list2)\n",
        "std_dev = np.std(int_list2)\n",
        "\n",
        "# Interquartile Range (IQR)\n",
        "iqr = stats.iqr(int_list2)\n",
        "\n",
        "# Coefficient of Variation\n",
        "coef_var = stats.variation(int_list2)\n",
        "\n",
        "# Mean Absolute Deviation (MAD)\n",
        "mad = np.mean(np.abs(int_list2 - np.mean(int_list2)))\n",
        "\n",
        "# Quartile Deviation\n",
        "q1, q3 = np.percentile(int_list2, [25, 75])\n",
        "quartile_deviation = (q3 - q1) / 2\n",
        "\n",
        "# Range-based Coefficient of Dispersion\n",
        "range_coef_disp = (max(int_list2) - min(int_list2)) / (max(int_list2) + min(int_list2))\n"
      ],
      "metadata": {
        "id": "y0d-WaYFKnym"
      },
      "execution_count": 30,
      "outputs": []
    },
    {
      "cell_type": "markdown",
      "source": [
        "3."
      ],
      "metadata": {
        "id": "ZgYaRqhGKwkM"
      }
    },
    {
      "cell_type": "code",
      "source": [
        "class DiscreteRandomVariable:\n",
        "    def __init__(self, outcomes, probabilities):\n",
        "        self.outcomes = outcomes\n",
        "        self.probabilities = probabilities\n",
        "\n",
        "    def expected_value(self):\n",
        "        return np.sum(np.multiply(self.outcomes, self.probabilities))\n",
        "\n",
        "    def variance(self):\n",
        "        mean = self.expected_value()\n",
        "        return np.sum(np.multiply(self.probabilities, (self.outcomes - mean) ** 2))\n",
        "\n",
        "# Example\n",
        "outcomes = np.array([1, 2, 3, 4, 5, 6])\n",
        "probabilities = np.array([1/6] * 6)\n",
        "drv = DiscreteRandomVariable(outcomes, probabilities)\n",
        "expected_value = drv.expected_value()\n",
        "variance = drv.variance()\n"
      ],
      "metadata": {
        "id": "YrVJUmwjKxVc"
      },
      "execution_count": 31,
      "outputs": []
    },
    {
      "cell_type": "markdown",
      "source": [
        "4."
      ],
      "metadata": {
        "id": "qxfAgfo_KyIH"
      }
    },
    {
      "cell_type": "code",
      "source": [
        "die_rolls = np.random.randint(1, 7, 1000)\n",
        "mean_roll = np.mean(die_rolls)\n",
        "variance_roll = np.var(die_rolls)\n"
      ],
      "metadata": {
        "id": "WQS10beRKyfr"
      },
      "execution_count": 32,
      "outputs": []
    },
    {
      "cell_type": "markdown",
      "source": [
        "5."
      ],
      "metadata": {
        "id": "JT4vaaqWLKi2"
      }
    },
    {
      "cell_type": "code",
      "source": [
        "\n",
        "samples = np.random.binomial(n=10, p=0.5, size=100)\n",
        "mean_samples = np.mean(samples)\n",
        "variance_samples = np.var(samples)\n"
      ],
      "metadata": {
        "id": "kCnk4GdlLMCT"
      },
      "execution_count": 33,
      "outputs": []
    },
    {
      "cell_type": "markdown",
      "source": [
        "6."
      ],
      "metadata": {
        "id": "7oFo-Y-ELW3K"
      }
    },
    {
      "cell_type": "code",
      "source": [
        "import numpy as np\n",
        "\n",
        "samples = np.random.normal(loc=0, scale=1, size=1000)\n",
        "\n",
        "mean = np.mean(samples)\n",
        "variance = np.var(samples)\n",
        "\n",
        "std_dev = np.std(samples)\n",
        "\n",
        "print(f\"Mean: {mean}\")\n",
        "print(f\"Variance: {variance}\")\n",
        "print(f\"Standard Deviation: {std_dev}\")\n",
        "\n"
      ],
      "metadata": {
        "colab": {
          "base_uri": "https://localhost:8080/"
        },
        "id": "iNc0F8wlLX-6",
        "outputId": "ae7cf1e5-31d0-4fd3-eb6e-cba67b699aee"
      },
      "execution_count": 34,
      "outputs": [
        {
          "output_type": "stream",
          "name": "stdout",
          "text": [
            "Mean: 0.03739974881105273\n",
            "Variance: 1.014364385111988\n",
            "Standard Deviation: 1.0071565842072363\n"
          ]
        }
      ]
    },
    {
      "cell_type": "markdown",
      "source": [
        "7."
      ],
      "metadata": {
        "id": "tTDkHqHWLk3E"
      }
    },
    {
      "cell_type": "code",
      "source": [
        "import seaborn as sns\n",
        "import pandas as pd\n",
        "\n",
        "# Load the tips dataset\n",
        "tips = sns.load_dataset('tips')\n",
        "\n",
        "from scipy.stats import skew\n",
        "\n",
        "def calculate_skewness(column):\n",
        "    return skew(column)\n",
        "\n",
        "# Calculate skewness for 'total_bill' and 'tip'\n",
        "total_bill_skewness = calculate_skewness(tips['total_bill'])\n",
        "tip_skewness = calculate_skewness(tips['tip'])\n",
        "\n",
        "print(f\"Skewness of total_bill: {total_bill_skewness}\")\n",
        "print(f\"Skewness of tip: {tip_skewness}\")\n",
        "\n",
        "def skewness_type(skewness):\n",
        "    if skewness > 0:\n",
        "        return \"Positive skewness\"\n",
        "    elif skewness < 0:\n",
        "        return \"Negative skewness\"\n",
        "    else:\n",
        "        return \"Approximately symmetric\"\n",
        "\n",
        "# Determine the skewness type for 'total_bill' and 'tip'\n",
        "total_bill_skewness_type = skewness_type(total_bill_skewness)\n",
        "tip_skewness_type = skewness_type(tip_skewness)\n",
        "\n",
        "print(f\"Total_bill skewness type: {total_bill_skewness_type}\")\n",
        "print(f\"Tip skewness type: {tip_skewness_type}\")\n",
        "\n",
        "\n",
        "def calculate_covariance(df, col1, col2):\n",
        "    return df[[col1, col2]].cov().iloc[0, 1]\n",
        "\n",
        "# Calculate covariance between 'total_bill' and 'tip'\n",
        "covariance = calculate_covariance(tips, 'total_bill', 'tip')\n",
        "print(f\"Covariance between total_bill and tip: {covariance}\")\n",
        "\n",
        "\n",
        "def calculate_pearson_correlation(df, col1, col2):\n",
        "    return df[[col1, col2]].corr().iloc[0, 1]\n",
        "\n",
        "# Calculate Pearson correlation coefficient between 'total_bill' and 'tip'\n",
        "pearson_correlation = calculate_pearson_correlation(tips, 'total_bill', 'tip')\n",
        "print(f\"Pearson correlation coefficient between total_bill and tip: {pearson_correlation}\")\n",
        "\n",
        "import matplotlib.pyplot as plt\n",
        "\n",
        "def plot_scatter(df, col1, col2):\n",
        "    plt.figure(figsize=(8, 6))\n",
        "    plt.scatter(df[col1], df[col2], alpha=0.7)\n",
        "    plt.title(f'Scatter Plot of {col1} vs {col2}')\n",
        "    plt.xlabel(col1)\n",
        "    plt.ylabel(col2)\n",
        "    plt.show()\n",
        "\n",
        "# Plot scatter plot for 'total_bill' and 'tip'\n",
        "plot_scatter(tips, 'total_bill', 'tip')\n",
        "\n"
      ],
      "metadata": {
        "colab": {
          "base_uri": "https://localhost:8080/",
          "height": 668
        },
        "id": "lwK2RtnxLmUK",
        "outputId": "070fc562-5ef4-4547-d008-ddd00c6b9d53"
      },
      "execution_count": 35,
      "outputs": [
        {
          "output_type": "stream",
          "name": "stdout",
          "text": [
            "Skewness of total_bill: 1.1262346334818638\n",
            "Skewness of tip: 1.4564266884221506\n",
            "Total_bill skewness type: Positive skewness\n",
            "Tip skewness type: Positive skewness\n",
            "Covariance between total_bill and tip: 8.323501629224854\n",
            "Pearson correlation coefficient between total_bill and tip: 0.6757341092113648\n"
          ]
        },
        {
          "output_type": "display_data",
          "data": {
            "text/plain": [
              "<Figure size 800x600 with 1 Axes>"
            ],
            "image/png": "[encoded data removed]"
          },
          "metadata": {}
        }
      ]
    },
    {
      "cell_type": "markdown",
      "source": [
        "8."
      ],
      "metadata": {
        "id": "oaBv_QdcMcQ3"
      }
    },
    {
      "cell_type": "code",
      "source": [
        "def normal_pdf(x, mean, std_dev):\n",
        "    return stats.norm.pdf(x, mean, std_dev)\n",
        "\n",
        "\n",
        "pdf_value = normal_pdf(0, 0, 1)\n"
      ],
      "metadata": {
        "id": "lUw_km-tMdV8"
      },
      "execution_count": 36,
      "outputs": []
    },
    {
      "cell_type": "markdown",
      "source": [
        "9."
      ],
      "metadata": {
        "id": "utje2RpyMtB0"
      }
    },
    {
      "cell_type": "code",
      "source": [
        "def exponential_cdf(x, lam):\n",
        "    return 1 - np.exp(-lam * x)\n",
        "\n",
        "\n",
        "cdf_value = exponential_cdf(1, 0.5)\n"
      ],
      "metadata": {
        "id": "WXxvhK3QMuUh"
      },
      "execution_count": 37,
      "outputs": []
    },
    {
      "cell_type": "markdown",
      "source": [
        "10."
      ],
      "metadata": {
        "id": "NrKOoKqkM2rn"
      }
    },
    {
      "cell_type": "code",
      "source": [
        "def poisson_pmf(k, lam):\n",
        "    return stats.poisson.pmf(k, lam)\n",
        "\n",
        "# Example\n",
        "pmf_value = poisson_pmf(5, 3)\n"
      ],
      "metadata": {
        "id": "Vhp7JbseM3-R"
      },
      "execution_count": 38,
      "outputs": []
    },
    {
      "cell_type": "markdown",
      "source": [
        "11."
      ],
      "metadata": {
        "id": "wm8lY4ezM77p"
      }
    },
    {
      "cell_type": "code",
      "source": [
        "import numpy as np\n",
        "from statsmodels.stats.proportion import proportions_ztest\n",
        "\n",
        "# 50 purchases out of 1000 visitors\n",
        "old_layout = np.array([1] * 50 + [0] * 950)\n",
        "\n",
        "# 70 purchases out of 1000 visitors\n",
        "new_layout = np.array([1] * 70 + [0] * 930)\n",
        "\n",
        "count = np.array([old_layout.sum(), new_layout.sum()])\n",
        "nobs = np.array([len(old_layout), len(new_layout)])\n",
        "\n",
        "# Apply Z-test for proportions\n",
        "z_stat, p_value = proportions_ztest(count, nobs)\n",
        "\n",
        "\n",
        "if p_value < 0.05:\n",
        "    result = \"The new layout leads to a significantly higher conversion rate.\"\n",
        "else:\n",
        "    result = \"No significant difference in conversion rates between the two layouts.\"\n",
        "\n",
        "\n",
        "print(f\"Z-Statistic: {z_stat}\")\n",
        "print(f\"P-Value: {p_value}\")\n",
        "print(result)\n"
      ],
      "metadata": {
        "colab": {
          "base_uri": "https://localhost:8080/"
        },
        "id": "FvebFNKuM8_Q",
        "outputId": "a391369f-b7cf-4918-8551-36260f95a1f6"
      },
      "execution_count": 39,
      "outputs": [
        {
          "output_type": "stream",
          "name": "stdout",
          "text": [
            "Z-Statistic: -1.883108942886774\n",
            "P-Value: 0.059685605532426224\n",
            "No significant difference in conversion rates between the two layouts.\n"
          ]
        }
      ]
    },
    {
      "cell_type": "markdown",
      "source": [
        "12."
      ],
      "metadata": {
        "id": "YyebSClROmmJ"
      }
    },
    {
      "cell_type": "code",
      "source": [
        "import numpy as np\n",
        "from scipy import stats\n",
        "\n",
        "\n",
        "before_program = np.array([75, 80, 85, 70, 90, 78, 92, 88, 82, 87])\n",
        "after_program = np.array([80, 85, 90, 80, 92, 80, 95, 90, 85, 88])\n",
        "\n",
        "\n",
        "t_stat, p_value = stats.ttest_rel(before_program, after_program)\n",
        "\n",
        "if p_value < 0.05:\n",
        "    result = \"The tutoring program significantly improves students' exam scores.\"\n",
        "else:\n",
        "    result = \"No significant improvement in students' exam scores after the tutoring program.\"\n",
        "\n",
        "# Output the results\n",
        "print(f\"T-Statistic: {t_stat}\")\n",
        "print(f\"P-Value: {p_value}\")\n",
        "print(result)\n"
      ],
      "metadata": {
        "colab": {
          "base_uri": "https://localhost:8080/"
        },
        "id": "2Ce5PYiyOnz5",
        "outputId": "668c7de1-2c7d-4541-ab19-062b59fb82f6"
      },
      "execution_count": 40,
      "outputs": [
        {
          "output_type": "stream",
          "name": "stdout",
          "text": [
            "T-Statistic: -4.593190894944668\n",
            "P-Value: 0.0013030932910086035\n",
            "The tutoring program significantly improves students' exam scores.\n"
          ]
        }
      ]
    },
    {
      "cell_type": "markdown",
      "source": [
        "13."
      ],
      "metadata": {
        "id": "Ck5kIqTxPB9F"
      }
    },
    {
      "cell_type": "code",
      "source": [
        "import numpy as np\n",
        "from scipy import stats\n",
        "\n",
        "\n",
        "before_drug = np.array([145, 150, 140, 135, 155, 160, 152, 148, 130, 138])\n",
        "after_drug = np.array([130, 140, 132, 128, 145, 148, 138, 136, 125, 130])\n",
        "\n",
        "t_stat, p_value = stats.ttest_rel(before_drug, after_drug)\n",
        "\n",
        "\n",
        "if p_value < 0.05:\n",
        "    result = \"The new drug is significantly effective in reducing blood pressure.\"\n",
        "else:\n",
        "    result = \"The new drug is not significantly effective in reducing blood pressure.\"\n",
        "\n",
        "\n",
        "print(f\"T-Statistic: {t_stat}\")\n",
        "print(f\"P-Value: {p_value}\")\n",
        "print(result)\n"
      ],
      "metadata": {
        "colab": {
          "base_uri": "https://localhost:8080/"
        },
        "id": "P_Harl0dPDiw",
        "outputId": "c194514d-85d9-42e5-edc6-8c00fee7e32a"
      },
      "execution_count": 41,
      "outputs": [
        {
          "output_type": "stream",
          "name": "stdout",
          "text": [
            "T-Statistic: 10.04987562112089\n",
            "P-Value: 3.433031432681152e-06\n",
            "The new drug is significantly effective in reducing blood pressure.\n"
          ]
        }
      ]
    },
    {
      "cell_type": "markdown",
      "source": [
        "14."
      ],
      "metadata": {
        "id": "rkZiiPS8P5-r"
      }
    },
    {
      "cell_type": "code",
      "source": [
        "import numpy as np\n",
        "from scipy import stats\n",
        "\n",
        "\n",
        "response_times = np.array([4.3, 3.8, 5.1, 4.9, 4.7, 4.2, 5.2, 4.5, 4.6, 4.4])\n",
        "\n",
        "t_stat, p_value = stats.ttest_1samp(response_times, 5)\n",
        "\n",
        "\n",
        "if p_value / 2 < 0.05 and t_stat < 0:\n",
        "    result = \"The claim that the average response time is less than 5 minutes is true.\"\n",
        "else:\n",
        "    result = \"The claim that the average response time is less than 5 minutes is false.\"\n",
        "\n",
        "\n",
        "print(f\"T-Statistic: {t_stat}\")\n",
        "print(f\"P-Value: {p_value}\")\n",
        "print(result)\n"
      ],
      "metadata": {
        "colab": {
          "base_uri": "https://localhost:8080/"
        },
        "id": "2pHms5vtP7DJ",
        "outputId": "4c2156bf-e031-42da-d4fa-6392f9a9b4a2"
      },
      "execution_count": 42,
      "outputs": [
        {
          "output_type": "stream",
          "name": "stdout",
          "text": [
            "T-Statistic: -3.1844572260429627\n",
            "P-Value: 0.011104982316785018\n",
            "The claim that the average response time is less than 5 minutes is true.\n"
          ]
        }
      ]
    },
    {
      "cell_type": "markdown",
      "source": [
        "15."
      ],
      "metadata": {
        "id": "gtUD1tJjP7lU"
      }
    },
    {
      "cell_type": "code",
      "source": [
        "import numpy as np\n",
        "from scipy import stats\n",
        "\n",
        "layout_a_clicks = [28, 32, 33, 29, 31, 34, 30, 35, 36, 37]\n",
        "layout_b_clicks = [40, 41, 38, 42, 39, 44, 43, 41, 45, 47]\n",
        "\n",
        "\n",
        "t_stat, p_value = stats.ttest_ind(layout_a_clicks, layout_b_clicks)\n",
        "\n",
        "\n",
        "dof = len(layout_a_clicks) + len(layout_b_clicks) - 2\n",
        "\n",
        "\n",
        "if p_value < 0.05:\n",
        "    result = \"There is a significant difference in click-through rates between the two layouts.\"\n",
        "else:\n",
        "    result = \"There is no significant difference in click-through rates between the two layouts.\"\n",
        "\n",
        "\n",
        "print(f\"T-Statistic: {t_stat}\")\n",
        "print(f\"P-Value: {p_value}\")\n",
        "print(f\"Degrees of Freedom: {dof}\")\n",
        "print(result)\n"
      ],
      "metadata": {
        "colab": {
          "base_uri": "https://localhost:8080/"
        },
        "id": "qz3Q75f4P8n_",
        "outputId": "1b2ae28e-02f5-40b1-d0b9-d512d8444898"
      },
      "execution_count": 43,
      "outputs": [
        {
          "output_type": "stream",
          "name": "stdout",
          "text": [
            "T-Statistic: -7.298102156175071\n",
            "P-Value: 8.833437608301987e-07\n",
            "Degrees of Freedom: 18\n",
            "There is a significant difference in click-through rates between the two layouts.\n"
          ]
        }
      ]
    },
    {
      "cell_type": "markdown",
      "source": [
        "16."
      ],
      "metadata": {
        "id": "sbyIj4s3P_S4"
      }
    },
    {
      "cell_type": "code",
      "source": [
        "import numpy as np\n",
        "from scipy import stats\n",
        "\n",
        "\n",
        "existing_drug_levels = [180, 182, 175, 185, 178, 176, 172, 184, 179, 183]\n",
        "new_drug_levels = [170, 172, 165, 168, 175, 173, 170, 178, 172, 176]\n",
        "\n",
        "\n",
        "t_stat, p_value = stats.ttest_ind(existing_drug_levels, new_drug_levels)\n",
        "\n",
        "\n",
        "if p_value < 0.05:\n",
        "    result = \"The new drug is significantly more effective in reducing cholesterol levels.\"\n",
        "else:\n",
        "    result = \"There is no significant difference between the effectiveness of the two drugs.\"\n",
        "\n",
        "\n",
        "print(f\"T-Statistic: {t_stat}\")\n",
        "print(f\"P-Value: {p_value}\")\n",
        "print(result)\n"
      ],
      "metadata": {
        "colab": {
          "base_uri": "https://localhost:8080/"
        },
        "id": "CuYrMbtsQAUj",
        "outputId": "5dabccce-bc42-4bd2-8342-5b437cbcb2f0"
      },
      "execution_count": 44,
      "outputs": [
        {
          "output_type": "stream",
          "name": "stdout",
          "text": [
            "T-Statistic: 4.14048098620866\n",
            "P-Value: 0.0006143398442372505\n",
            "The new drug is significantly more effective in reducing cholesterol levels.\n"
          ]
        }
      ]
    },
    {
      "cell_type": "markdown",
      "source": [
        "17."
      ],
      "metadata": {
        "id": "c_CTpzKRQArk"
      }
    },
    {
      "cell_type": "code",
      "source": [
        "import numpy as np\n",
        "from scipy import stats\n",
        "\n",
        "\n",
        "pre_intervention_scores = [80, 85, 90, 75, 88, 82, 92, 78, 85, 87]\n",
        "post_intervention_scores = [90, 92, 88, 92, 95, 91, 96, 93, 89, 93]\n",
        "\n",
        "t_stat, p_value = stats.ttest_rel(pre_intervention_scores, post_intervention_scores)\n",
        "\n",
        "\n",
        "if p_value < 0.05:\n",
        "    result = \"The educational intervention had a significant impact on math scores.\"\n",
        "else:\n",
        "    result = \"There is no significant impact of the educational intervention on math scores.\"\n",
        "\n",
        "\n",
        "print(f\"T-Statistic: {t_stat}\")\n",
        "print(f\"P-Value: {p_value}\")\n",
        "print(result)\n"
      ],
      "metadata": {
        "colab": {
          "base_uri": "https://localhost:8080/"
        },
        "id": "lC_YWrvDQBmI",
        "outputId": "e534e061-d22b-40ec-b295-cefe8408a3e4"
      },
      "execution_count": 45,
      "outputs": [
        {
          "output_type": "stream",
          "name": "stdout",
          "text": [
            "T-Statistic: -4.42840883965761\n",
            "P-Value: 0.0016509548165795493\n",
            "The educational intervention had a significant impact on math scores.\n"
          ]
        }
      ]
    },
    {
      "cell_type": "markdown",
      "source": [
        "18."
      ],
      "metadata": {
        "id": "-IN9TjspQB76"
      }
    },
    {
      "cell_type": "code",
      "source": [
        "import numpy as np\n",
        "from scipy import stats\n",
        "\n",
        "\n",
        "np.random.seed(0)\n",
        "male_salaries = np.random.normal(loc=50000, scale=10000, size=20)\n",
        "female_salaries = np.random.normal(loc=55000, scale=9000, size=20)\n",
        "\n",
        "\n",
        "t_stat, p_value = stats.ttest_ind(male_salaries, female_salaries)\n",
        "\n",
        "\n",
        "if p_value < 0.05:\n",
        "    result = \"There is a statistically significant difference between male and female salaries.\"\n",
        "else:\n",
        "    result = \"There is no statistically significant difference between male and female salaries.\"\n",
        "\n",
        "print(f\"T-Statistic: {t_stat}\")\n",
        "print(f\"P-Value: {p_value}\")\n",
        "print(result)\n"
      ],
      "metadata": {
        "colab": {
          "base_uri": "https://localhost:8080/"
        },
        "id": "VS89qKxaQDGW",
        "outputId": "7b078e37-d2e3-47f8-b1c4-4cb5144056b3"
      },
      "execution_count": 46,
      "outputs": [
        {
          "output_type": "stream",
          "name": "stdout",
          "text": [
            "T-Statistic: 0.06114208969631383\n",
            "P-Value: 0.9515665020676465\n",
            "There is no statistically significant difference between male and female salaries.\n"
          ]
        }
      ]
    },
    {
      "cell_type": "markdown",
      "source": [
        "19."
      ],
      "metadata": {
        "id": "vxFQWt73QDiK"
      }
    },
    {
      "cell_type": "code",
      "source": [
        "import numpy as np\n",
        "from scipy import stats\n",
        "\n",
        "\n",
        "version1_scores = [85, 88, 82, 89, 87, 84, 90, 88, 85, 86, 91, 83, 87, 84, 89, 86, 84, 88, 85, 86, 89, 90, 87, 88, 85]\n",
        "version2_scores = [80, 78, 83, 81, 79, 82, 76, 80, 78, 81, 77, 82, 80, 79, 82, 79, 80, 81, 79, 82, 79, 78, 80, 81, 82]\n",
        "\n",
        "t_stat, p_value = stats.ttest_ind(version1_scores, version2_scores)\n",
        "\n",
        "\n",
        "if p_value < 0.05:\n",
        "    result = \"There is a statistically significant difference in the quality scores between the two versions.\"\n",
        "else:\n",
        "    result = \"There is no statistically significant difference in the quality scores between the two versions.\"\n",
        "\n",
        "\n",
        "print(f\"T-Statistic: {t_stat}\")\n",
        "print(f\"P-Value: {p_value}\")\n",
        "print(result)\n"
      ],
      "metadata": {
        "colab": {
          "base_uri": "https://localhost:8080/"
        },
        "id": "94v7LNKnQEe9",
        "outputId": "92f13497-a32d-4fa1-dd4b-0ea48db2c047"
      },
      "execution_count": 47,
      "outputs": [
        {
          "output_type": "stream",
          "name": "stdout",
          "text": [
            "T-Statistic: 11.325830417646698\n",
            "P-Value: 3.6824250702873965e-15\n",
            "There is a statistically significant difference in the quality scores between the two versions.\n"
          ]
        }
      ]
    },
    {
      "cell_type": "markdown",
      "source": [
        "20."
      ],
      "metadata": {
        "id": "dc8NdfP4QEyR"
      }
    },
    {
      "cell_type": "code",
      "source": [
        "import numpy as np\n",
        "from scipy import stats\n",
        "\n",
        "branch_a_scores = [4, 5, 3, 4, 5, 4, 5, 3, 4, 4, 5, 4, 4, 3, 4, 5, 5, 4, 3, 4, 5, 4, 3, 5, 4, 4, 5, 3, 4, 5, 4]\n",
        "branch_b_scores = [3, 4, 2, 3, 4, 3, 4, 2, 3, 3, 4, 3, 3, 2, 3, 4, 4, 3, 2, 3, 4, 3, 2, 4, 3, 3, 4, 2, 3, 4, 3]\n",
        "\n",
        "\n",
        "t_stat, p_value = stats.ttest_ind(branch_a_scores, branch_b_scores)\n",
        "\n",
        "\n",
        "if p_value < 0.05:\n",
        "    result = \"There is a statistically significant difference in customer satisfaction between the two branches.\"\n",
        "else:\n",
        "    result = \"There is no statistically significant difference in customer satisfaction between the two branches.\"\n",
        "\n",
        "\n",
        "print(f\"T-Statistic: {t_stat}\")\n",
        "print(f\"P-Value: {p_value}\")\n",
        "print(result)\n"
      ],
      "metadata": {
        "colab": {
          "base_uri": "https://localhost:8080/"
        },
        "id": "EjUDYP28QGDe",
        "outputId": "8fdbda2d-bb4b-442f-9d50-10a5ce0d225f"
      },
      "execution_count": 48,
      "outputs": [
        {
          "output_type": "stream",
          "name": "stdout",
          "text": [
            "T-Statistic: 5.480077554195743\n",
            "P-Value: 8.895290509945655e-07\n",
            "There is a statistically significant difference in customer satisfaction between the two branches.\n"
          ]
        }
      ]
    },
    {
      "cell_type": "markdown",
      "source": [
        "21."
      ],
      "metadata": {
        "id": "pKAzsf7cQGls"
      }
    },
    {
      "cell_type": "code",
      "source": [
        "import numpy as np\n",
        "from scipy import stats\n",
        "from pandas import crosstab\n",
        "\n",
        "\n",
        "np.random.seed(0)\n",
        "age_groups = np.random.choice(['18-30', '31-50', '51+'], size=30)\n",
        "voter_preferences = np.random.choice(['Candidate A', 'Candidate B'], size=30)\n",
        "\n",
        "\n",
        "contingency_table = crosstab(age_groups, voter_preferences)\n",
        "\n",
        "\n",
        "chi2_stat, p_value, dof, expected = stats.chi2_contingency(contingency_table)\n",
        "\n",
        "\n",
        "if p_value < 0.05:\n",
        "    result = \"There is a statistically significant association between age groups and voter preferences.\"\n",
        "else:\n",
        "    result = \"There is no statistically significant association between age groups and voter preferences.\"\n",
        "\n",
        "\n",
        "print(f\"Chi-Square Statistic: {chi2_stat}\")\n",
        "print(f\"P-Value: {p_value}\")\n",
        "print(result)\n"
      ],
      "metadata": {
        "colab": {
          "base_uri": "https://localhost:8080/"
        },
        "id": "j0awdkm2QHk6",
        "outputId": "06da8fff-841e-4e11-c77a-879ad24184bf"
      },
      "execution_count": 49,
      "outputs": [
        {
          "output_type": "stream",
          "name": "stdout",
          "text": [
            "Chi-Square Statistic: 1.4401669758812612\n",
            "P-Value: 0.48671161971286614\n",
            "There is no statistically significant association between age groups and voter preferences.\n"
          ]
        }
      ]
    },
    {
      "cell_type": "markdown",
      "source": [
        "22."
      ],
      "metadata": {
        "id": "w8A6NMPHQIBD"
      }
    },
    {
      "cell_type": "code",
      "source": [
        "import numpy as np\n",
        "from scipy import stats\n",
        "\n",
        "data = np.array([[50, 30, 40, 20], [30, 40, 30, 50], [20, 30, 40, 30]])\n",
        "\n",
        "\n",
        "chi2_stat, p_value, dof, expected = stats.chi2_contingency(data)\n",
        "\n",
        "if p_value < 0.05:\n",
        "    result = \"There is a significant relationship between product satisfaction levels and customer regions.\"\n",
        "else:\n",
        "    result = \"There is no significant relationship between product satisfaction levels and customer regions.\"\n",
        "\n",
        "\n",
        "print(f\"Chi-Square Statistic: {chi2_stat}\")\n",
        "print(f\"P-Value: {p_value}\")\n",
        "print(f\"Degrees of Freedom: {dof}\")\n",
        "print(f\"Expected Frequencies: \\n{expected}\")\n",
        "print(result)\n"
      ],
      "metadata": {
        "colab": {
          "base_uri": "https://localhost:8080/"
        },
        "id": "u7AZLvHOQJBD",
        "outputId": "243b7ee6-85af-4b5d-993d-b9dae04113e8"
      },
      "execution_count": 50,
      "outputs": [
        {
          "output_type": "stream",
          "name": "stdout",
          "text": [
            "Chi-Square Statistic: 27.777056277056275\n",
            "P-Value: 0.00010349448486004387\n",
            "Degrees of Freedom: 6\n",
            "Expected Frequencies: \n",
            "[[34.14634146 34.14634146 37.56097561 34.14634146]\n",
            " [36.58536585 36.58536585 40.24390244 36.58536585]\n",
            " [29.26829268 29.26829268 32.19512195 29.26829268]]\n",
            "There is a significant relationship between product satisfaction levels and customer regions.\n"
          ]
        }
      ]
    },
    {
      "cell_type": "markdown",
      "source": [
        "23."
      ],
      "metadata": {
        "id": "eq0mdc_rQKgd"
      }
    },
    {
      "cell_type": "code",
      "source": [
        "import numpy as np\n",
        "from scipy import stats\n",
        "\n",
        "\n",
        "data = np.array([[50, 30, 20], [30, 40, 30], [20, 30, 40]])\n",
        "\n",
        "\n",
        "chi2_stat, p_value, dof, expected = stats.chi2_contingency(data)\n",
        "\n",
        "\n",
        "if p_value < 0.05:\n",
        "    result = \"There is a significant difference in job performance levels before and after the training.\"\n",
        "else:\n",
        "    result = \"There is no significant difference in job performance levels before and after the training.\"\n",
        "\n",
        "\n",
        "print(f\"Chi-Square Statistic: {chi2_stat}\")\n",
        "print(f\"P-Value: {p_value}\")\n",
        "print(f\"Degrees of Freedom: {dof}\")\n",
        "print(f\"Expected Frequencies: \\n{expected}\")\n",
        "print(result)\n"
      ],
      "metadata": {
        "colab": {
          "base_uri": "https://localhost:8080/"
        },
        "id": "FtTCtI-zQLxc",
        "outputId": "d779cb04-4152-47ea-cbc8-06e51f15deb1"
      },
      "execution_count": 51,
      "outputs": [
        {
          "output_type": "stream",
          "name": "stdout",
          "text": [
            "Chi-Square Statistic: 22.161728395061726\n",
            "P-Value: 0.00018609719479882557\n",
            "Degrees of Freedom: 4\n",
            "Expected Frequencies: \n",
            "[[34.48275862 34.48275862 31.03448276]\n",
            " [34.48275862 34.48275862 31.03448276]\n",
            " [31.03448276 31.03448276 27.93103448]]\n",
            "There is a significant difference in job performance levels before and after the training.\n"
          ]
        }
      ]
    },
    {
      "cell_type": "markdown",
      "source": [
        "24."
      ],
      "metadata": {
        "id": "maJPXsKKQMLb"
      }
    },
    {
      "cell_type": "code",
      "source": [
        "import numpy as np\n",
        "from scipy import stats\n",
        "\n",
        "\n",
        "standard_scores = [80, 85, 90, 78, 88, 82, 92, 78, 85, 87]\n",
        "premium_scores = [90, 92, 88, 92, 95, 91, 96, 93, 89, 93]\n",
        "deluxe_scores = [95, 98, 92, 97, 96, 94, 98, 97, 92, 99]\n",
        "\n",
        "\n",
        "f_stat, p_value = stats.f_oneway(standard_scores, premium_scores, deluxe_scores)\n",
        "\n",
        "\n",
        "if p_value < 0.05:\n",
        "    result = \"There is a significant difference in customer satisfaction scores among the three product versions.\"\n",
        "else:\n",
        "    result = \"There is no significant difference in customer satisfaction scores among the three product versions.\"\n",
        "\n",
        "\n",
        "print(f\"F-Statistic: {f_stat}\")\n",
        "print(f\"P-Value: {p_value}\")\n",
        "print(result)\n"
      ],
      "metadata": {
        "colab": {
          "base_uri": "https://localhost:8080/"
        },
        "id": "VUy4a57JQNzs",
        "outputId": "890d2157-05dc-40c1-b6d1-cafe5141f393"
      },
      "execution_count": 52,
      "outputs": [
        {
          "output_type": "stream",
          "name": "stdout",
          "text": [
            "F-Statistic: 27.03556231003039\n",
            "P-Value: 3.5786328857349003e-07\n",
            "There is a significant difference in customer satisfaction scores among the three product versions.\n"
          ]
        }
      ]
    }
  ]
}