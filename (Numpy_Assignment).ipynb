{
  "nbformat": 4,
  "nbformat_minor": 0,
  "metadata": {
    "colab": {
      "provenance": []
    },
    "kernelspec": {
      "name": "python3",
      "display_name": "Python 3"
    },
    "language_info": {
      "name": "python"
    }
  },
  "cells": [
    {
      "cell_type": "markdown",
      "source": [
        "Create a NumPy array 'arr' of integers from 0 to 5 and print its data type."
      ],
      "metadata": {
        "id": "3NVIXaWCViIR"
      }
    },
    {
      "cell_type": "code",
      "source": [
        "import numpy as np\n"
      ],
      "metadata": {
        "id": "vjcVCr8_VeSY"
      },
      "execution_count": 1,
      "outputs": []
    },
    {
      "cell_type": "code",
      "source": [
        "arr = np.arange(6);\n",
        "arr"
      ],
      "metadata": {
        "colab": {
          "base_uri": "https://localhost:8080/"
        },
        "id": "6l-0jWgEVpwH",
        "outputId": "8da3b4bd-05de-4d7b-bb7b-0806a8d5ece0"
      },
      "execution_count": 2,
      "outputs": [
        {
          "output_type": "execute_result",
          "data": {
            "text/plain": [
              "array([0, 1, 2, 3, 4, 5])"
            ]
          },
          "metadata": {},
          "execution_count": 2
        }
      ]
    },
    {
      "cell_type": "code",
      "source": [
        "arr.dtype"
      ],
      "metadata": {
        "colab": {
          "base_uri": "https://localhost:8080/"
        },
        "id": "Ylfo1mRYWR_C",
        "outputId": "8a5d890d-ff74-4ab3-823a-116a4a3c8bcc"
      },
      "execution_count": 3,
      "outputs": [
        {
          "output_type": "execute_result",
          "data": {
            "text/plain": [
              "dtype('int64')"
            ]
          },
          "metadata": {},
          "execution_count": 3
        }
      ]
    },
    {
      "cell_type": "markdown",
      "source": [
        "Given a NumPy array 'arr', check if its data type is float64."
      ],
      "metadata": {
        "id": "gZdBM8W-Wn58"
      }
    },
    {
      "cell_type": "code",
      "source": [
        "arr = np.array([1,2,3,3.4,5.6,7,8,9])\n",
        "is_float64 = arr.dtype == np.float64\n",
        "print(\"Is data type float64?\", is_float64)\n",
        "\n"
      ],
      "metadata": {
        "colab": {
          "base_uri": "https://localhost:8080/"
        },
        "id": "u_ijvM4bWtt-",
        "outputId": "bd0c8592-4a84-4075-f5c9-b6530045340d"
      },
      "execution_count": 4,
      "outputs": [
        {
          "output_type": "stream",
          "name": "stdout",
          "text": [
            "Is data type float64? True\n"
          ]
        }
      ]
    },
    {
      "cell_type": "markdown",
      "source": [
        "Create a NumPy array 'arr' with a data type of complex128 containing three complex numbers."
      ],
      "metadata": {
        "id": "IydqqmhbevS1"
      }
    },
    {
      "cell_type": "code",
      "source": [
        "arr1 = np.array([1,2,3,3+5j,4+6j,+5+2j])\n",
        "arr1\n"
      ],
      "metadata": {
        "colab": {
          "base_uri": "https://localhost:8080/"
        },
        "id": "8vHQYJBGez3Y",
        "outputId": "1714de44-8586-4135-e70c-069f6b02af22"
      },
      "execution_count": 5,
      "outputs": [
        {
          "output_type": "execute_result",
          "data": {
            "text/plain": [
              "array([1.+0.j, 2.+0.j, 3.+0.j, 3.+5.j, 4.+6.j, 5.+2.j])"
            ]
          },
          "metadata": {},
          "execution_count": 5
        }
      ]
    },
    {
      "cell_type": "code",
      "source": [
        "arr1.dtype"
      ],
      "metadata": {
        "colab": {
          "base_uri": "https://localhost:8080/"
        },
        "id": "rU43j1QXfLor",
        "outputId": "a4197ddf-0417-4b55-d97e-39ec370b5759"
      },
      "execution_count": 6,
      "outputs": [
        {
          "output_type": "execute_result",
          "data": {
            "text/plain": [
              "dtype('complex128')"
            ]
          },
          "metadata": {},
          "execution_count": 6
        }
      ]
    },
    {
      "cell_type": "markdown",
      "source": [
        "Convert an existing NumPy array 'arr' of integers to float32 data type."
      ],
      "metadata": {
        "id": "wV_NwbOHfchK"
      }
    },
    {
      "cell_type": "code",
      "source": [
        "a = np.array([1,2,3,4,5,6,7])\n",
        "a_float32 = a.astype(np.float32)\n",
        "a_float32"
      ],
      "metadata": {
        "colab": {
          "base_uri": "https://localhost:8080/"
        },
        "id": "X7lIDgRsfd2u",
        "outputId": "3262aa88-0b82-446e-80a4-838c603cc16e"
      },
      "execution_count": 7,
      "outputs": [
        {
          "output_type": "execute_result",
          "data": {
            "text/plain": [
              "array([1., 2., 3., 4., 5., 6., 7.], dtype=float32)"
            ]
          },
          "metadata": {},
          "execution_count": 7
        }
      ]
    },
    {
      "cell_type": "markdown",
      "source": [
        "Given a NumPy array 'arr' with float64 data type, convert it to float32 to reduce decimal precision."
      ],
      "metadata": {
        "id": "8x1zxrr7g4mv"
      }
    },
    {
      "cell_type": "code",
      "source": [
        "a1 = np.array([1.33433,2.5234,3.53344,4.8879,5.76,6.12,7.90])\n",
        "\n",
        "a1_float32 = np.finfo(np.float64).precision\n",
        "a1_float32"
      ],
      "metadata": {
        "colab": {
          "base_uri": "https://localhost:8080/"
        },
        "id": "PcfZNYTrg5zo",
        "outputId": "d7747393-1f9f-4bb2-d244-19211582aed1"
      },
      "execution_count": 8,
      "outputs": [
        {
          "output_type": "execute_result",
          "data": {
            "text/plain": [
              "15"
            ]
          },
          "metadata": {},
          "execution_count": 8
        }
      ]
    },
    {
      "cell_type": "markdown",
      "source": [
        "Write a function array_attributes that takes a NumPy array as input and returns its shape, size, and data type."
      ],
      "metadata": {
        "id": "DJa02TLLi2GZ"
      }
    },
    {
      "cell_type": "code",
      "source": [
        "import numpy as np\n",
        "def array_attributes (arr):\n",
        "    return arr.shape, arr.size, arr.dtype\n",
        "arr = np.array([[2,3,4],[5,6,7]])\n",
        "shape,size,dtype =array_attributes(arr)\n",
        "print(\"Shape:\", shape)\n",
        "print(\"Size:\", size)\n",
        "print(\"Data type:\", dtype)\n",
        "\n",
        "\n",
        "\n"
      ],
      "metadata": {
        "colab": {
          "base_uri": "https://localhost:8080/"
        },
        "id": "VGA8Z91Hi3cM",
        "outputId": "d6c6a11f-7e9a-42eb-c44c-434b67e9a54d"
      },
      "execution_count": 9,
      "outputs": [
        {
          "output_type": "stream",
          "name": "stdout",
          "text": [
            "Shape: (2, 3)\n",
            "Size: 6\n",
            "Data type: int64\n"
          ]
        }
      ]
    },
    {
      "cell_type": "markdown",
      "source": [
        "Create a function array_dimension that takes a NumPy array as input and returns its dimensionality."
      ],
      "metadata": {
        "id": "-u-kViKpnuSn"
      }
    },
    {
      "cell_type": "code",
      "source": [
        "\n",
        "\n",
        "def array_dimension(arr):\n",
        "    dim = arr.ndim\n",
        "    return dim\n",
        "arr = np.array([[2, 3, 4], [5, 6, 7]])\n",
        "dimension = array_dimension(arr)\n",
        "print(\"no of dimension:\", dimension)\n"
      ],
      "metadata": {
        "id": "4E6MXOhVnvWP",
        "colab": {
          "base_uri": "https://localhost:8080/"
        },
        "outputId": "7b59d4aa-cfff-4e06-cd7c-6b41f3a3e585"
      },
      "execution_count": 10,
      "outputs": [
        {
          "output_type": "stream",
          "name": "stdout",
          "text": [
            "no of dimension: 2\n"
          ]
        }
      ]
    },
    {
      "cell_type": "markdown",
      "source": [
        "Design a function item_size_info that takes a NumPy array as input and returns the item size and the total size in bytes."
      ],
      "metadata": {
        "id": "MqP-2mkdN4xM"
      }
    },
    {
      "cell_type": "code",
      "source": [
        "import numpy as np\n",
        "\n",
        "def item_size_info(arr):\n",
        "    item_sizes = arr.itemsize\n",
        "    total_size = arr.nbytes\n",
        "    return item_sizes, total_size\n",
        "arr =np.array([[2, 3, 4],[5, 6, 7]])\n",
        "\n",
        "item_sizes,total_size =item_size_info(arr)\n",
        "\n",
        "print(\"item_sizes:\",item_sizes,\"bytes\")\n",
        "print(\"total_size:\", total_size, \"bytes\")\n",
        "\n"
      ],
      "metadata": {
        "colab": {
          "base_uri": "https://localhost:8080/"
        },
        "id": "5pAeYlevOCES",
        "outputId": "c4013a17-096e-4f3d-c8f2-7363a2acf1fb"
      },
      "execution_count": 11,
      "outputs": [
        {
          "output_type": "stream",
          "name": "stdout",
          "text": [
            "item_sizes: 8 bytes\n",
            "total_size: 48 bytes\n"
          ]
        }
      ]
    },
    {
      "cell_type": "markdown",
      "source": [
        "Design a function shape_stride_relationship that takes a NumPy array as input and returns the shape and strides of the array"
      ],
      "metadata": {
        "id": "22hkmgf06hIT"
      }
    },
    {
      "cell_type": "code",
      "source": [
        "def  shape_stride_relationship(arr):\n",
        "     shape = arr.shape\n",
        "     strides = arr.strides\n",
        "     return  shape,strides\n",
        "arr =np.array([[2, 3, 4],[5, 6, 7]])\n",
        "\n",
        "shape, strides = shape_stride_relationship(arr)\n",
        "\n",
        "print(\"shape:\", shape)\n",
        "print(\"strides:\", strides)\n"
      ],
      "metadata": {
        "colab": {
          "base_uri": "https://localhost:8080/"
        },
        "id": "bxTEVA6i6iut",
        "outputId": "15c6c9f9-7611-471d-9f40-d48bbabb2b07"
      },
      "execution_count": 12,
      "outputs": [
        {
          "output_type": "stream",
          "name": "stdout",
          "text": [
            "shape: (2, 3)\n",
            "strides: (24, 8)\n"
          ]
        }
      ]
    },
    {
      "cell_type": "markdown",
      "source": [
        "Create a function create_zeros_array that takes an integer n as input and returns a NumPy array of zeros with n elements."
      ],
      "metadata": {
        "id": "FxXJczGW9KvS"
      }
    },
    {
      "cell_type": "code",
      "source": [
        "def create_zeros_array(n):\n",
        "\n",
        "  return np.zeros(n)\n",
        "n = 10\n",
        "zeros_arrays = create_zeros_array(n)\n",
        "print(\"zeros_arrays :\" ,zeros_arrays  )\n"
      ],
      "metadata": {
        "colab": {
          "base_uri": "https://localhost:8080/"
        },
        "id": "r0xJiwrp9ONo",
        "outputId": "289ba51c-c6e5-4383-b8bc-f328ec614e25"
      },
      "execution_count": 13,
      "outputs": [
        {
          "output_type": "stream",
          "name": "stdout",
          "text": [
            "zeros_arrays : [0. 0. 0. 0. 0. 0. 0. 0. 0. 0.]\n"
          ]
        }
      ]
    },
    {
      "cell_type": "markdown",
      "source": [
        "Write a function create_ones_matrix that takes integers rows and cols as inputs and generates a 2D NumPy array filled with ones of size rows x cols."
      ],
      "metadata": {
        "id": "50oMBXmC_Zea"
      }
    },
    {
      "cell_type": "code",
      "source": [
        "def create_ones_matrix(rows,cols):\n",
        "  return np.ones((rows,cols))\n",
        "\n",
        "rows = 3\n",
        "cols = 4\n",
        "ones_matrix = create_ones_matrix(rows,cols)\n",
        "print(\"ones_matrix:\")\n",
        "print(ones_matrix)\n"
      ],
      "metadata": {
        "colab": {
          "base_uri": "https://localhost:8080/"
        },
        "id": "o6EJ4wsC_a1F",
        "outputId": "10ed014b-b1f9-405c-8f6c-2dfba69016e2"
      },
      "execution_count": 14,
      "outputs": [
        {
          "output_type": "stream",
          "name": "stdout",
          "text": [
            "ones_matrix:\n",
            "[[1. 1. 1. 1.]\n",
            " [1. 1. 1. 1.]\n",
            " [1. 1. 1. 1.]]\n"
          ]
        }
      ]
    },
    {
      "cell_type": "markdown",
      "source": [
        "Write a function generate_range_array that takes three integers start, stop, and step as arguments and creates a NumPy array with a range starting from start, ending at stop (exclusive), and with the specified step."
      ],
      "metadata": {
        "id": "WHAqYn01EZbC"
      }
    },
    {
      "cell_type": "code",
      "source": [
        "def generate_range_array(start,stop,step):\n",
        "    return np.arange(start,stop + step ,step)\n",
        "    # if you wanted to stop exclusive then add the stop and step\n",
        "\n",
        "\n",
        "start = 1\n",
        "stop = 20\n",
        "step = 2\n",
        "range_array = generate_range_array(start,stop,step)\n",
        "print(\"range_array:\",range_array)\n",
        "\n"
      ],
      "metadata": {
        "colab": {
          "base_uri": "https://localhost:8080/"
        },
        "id": "oCQa3c4SEiEW",
        "outputId": "3d26fd29-d4b6-4b40-9062-55b1868b32b0"
      },
      "execution_count": 15,
      "outputs": [
        {
          "output_type": "stream",
          "name": "stdout",
          "text": [
            "range_array: [ 1  3  5  7  9 11 13 15 17 19 21]\n"
          ]
        }
      ]
    },
    {
      "cell_type": "markdown",
      "source": [
        "Design a function generate_linear_space that takes two floats start, stop, and an integer num as arguments and generates a NumPy array with num equally spaced values between start and stop (inclusive)."
      ],
      "metadata": {
        "id": "RyRxmroRH1KR"
      }
    },
    {
      "cell_type": "code",
      "source": [
        "def generate_linear_space(start,stop,num):\n",
        "  return np.linspace(start,stop,num)\n",
        "start = 2.0\n",
        "stop = 26.0\n",
        "num = 5\n",
        "linear_space = generate_linear_space(start,stop,num)\n",
        "print(\"linear_space:\",linear_space)\n",
        "\n"
      ],
      "metadata": {
        "colab": {
          "base_uri": "https://localhost:8080/"
        },
        "id": "wAmv0vJQH2dy",
        "outputId": "85d489b3-ff4e-4b7e-8dd9-0ff9b1e53af9"
      },
      "execution_count": 16,
      "outputs": [
        {
          "output_type": "stream",
          "name": "stdout",
          "text": [
            "linear_space: [ 2.  8. 14. 20. 26.]\n"
          ]
        }
      ]
    },
    {
      "cell_type": "markdown",
      "source": [
        "Create a function create_identity_matrix that takes an integer n as input and generates a square identity matrix of size n x n using numpy.eye."
      ],
      "metadata": {
        "id": "E_leKc-OKcmv"
      }
    },
    {
      "cell_type": "code",
      "source": [
        "def  create_identity_matrix(n):\n",
        "     return np.eye(n)\n",
        "\n",
        "\n",
        "n = 4\n",
        "identity_matrix = create_identity_matrix(n)\n",
        "print(\"identity_matrix :\",identity_matrix)\n"
      ],
      "metadata": {
        "colab": {
          "base_uri": "https://localhost:8080/"
        },
        "id": "1ctXKYiBKd1S",
        "outputId": "f7b0cbef-13b9-4990-fa6b-4d7ce2764e29"
      },
      "execution_count": 17,
      "outputs": [
        {
          "output_type": "stream",
          "name": "stdout",
          "text": [
            "identity_matrix : [[1. 0. 0. 0.]\n",
            " [0. 1. 0. 0.]\n",
            " [0. 0. 1. 0.]\n",
            " [0. 0. 0. 1.]]\n"
          ]
        }
      ]
    },
    {
      "cell_type": "markdown",
      "source": [
        "Write a function that takes a Python list and converts it into a NumPy array."
      ],
      "metadata": {
        "id": "uGBdA3QkMtpT"
      }
    },
    {
      "cell_type": "code",
      "source": [
        "def convert_to_numpy_array(py_list):\n",
        "    return np.array(py_list)\n",
        "\n",
        "py_list = [1,2,3,4,5,6]\n",
        "numpy_array = convert_to_numpy_array(py_list)\n",
        "print(\"numpy_array:\",numpy_array)"
      ],
      "metadata": {
        "colab": {
          "base_uri": "https://localhost:8080/"
        },
        "id": "wJHP0K0rMurg",
        "outputId": "1a6a0848-e9fb-4a3d-b65f-9eaac58e3cfc"
      },
      "execution_count": 18,
      "outputs": [
        {
          "output_type": "stream",
          "name": "stdout",
          "text": [
            "numpy_array: [1 2 3 4 5 6]\n"
          ]
        }
      ]
    },
    {
      "cell_type": "code",
      "source": [
        " # Create a NumPy array and demonstrate the use of numpy.view to create a new array object with the same data.\n",
        "import numpy as np\n",
        "original_array = np.array([[1,2,3],[4,5,6]])\n",
        "view_array = original_array.view()\n",
        "view_array[0,0] = 100\n",
        "\n",
        "print(\"Original Array:\")\n",
        "print(original_array)\n",
        "print(\"\\nView Array:\")\n",
        "print(view_array)\n"
      ],
      "metadata": {
        "colab": {
          "base_uri": "https://localhost:8080/"
        },
        "id": "5cMusExIBpbJ",
        "outputId": "6c99a528-1cae-4fbb-b53d-fcaa5d25c39b"
      },
      "execution_count": 19,
      "outputs": [
        {
          "output_type": "stream",
          "name": "stdout",
          "text": [
            "Original Array:\n",
            "[[100   2   3]\n",
            " [  4   5   6]]\n",
            "\n",
            "View Array:\n",
            "[[100   2   3]\n",
            " [  4   5   6]]\n"
          ]
        }
      ]
    },
    {
      "cell_type": "code",
      "source": [
        " # Write a function that takes two NumPy arrays and concatenates them along a specified axis.\n",
        "\n",
        "\n",
        "def concatenates_array(arr1, arr2, axis=0):\n",
        "    return np.concatenate((arr1, arr2), axis=axis)\n",
        "\n",
        "arr1 = np.array([[1, 2, 3, 4, 5, 6]])\n",
        "arr2 = np.array([[6, 7, 8, 9, 2, 3]])\n",
        "\n",
        "concatenates_array_result = concatenates_array(arr1, arr2, axis=0)\n",
        "print(\"concatenates_array_result axis 0:\")\n",
        "print(concatenates_array_result)\n",
        "\n",
        "\n",
        "\n",
        "\n"
      ],
      "metadata": {
        "colab": {
          "base_uri": "https://localhost:8080/"
        },
        "id": "b0MCVy8VJCP6",
        "outputId": "1674c334-4313-4dc1-877e-447b454f42f8"
      },
      "execution_count": 20,
      "outputs": [
        {
          "output_type": "stream",
          "name": "stdout",
          "text": [
            "concatenates_array_result axis 0:\n",
            "[[1 2 3 4 5 6]\n",
            " [6 7 8 9 2 3]]\n"
          ]
        }
      ]
    },
    {
      "cell_type": "code",
      "source": [
        "# Create two NumPy arrays with different shapes and concatenate them\n",
        "# horizontally using `numpy. concatenate`.\n",
        "\n",
        "arr1 = np.array([[1, 2] ,[3,8],[4,6]])\n",
        "\n",
        "arr2 = np.array([[6 ],\n",
        "                  [7],\n",
        "                 [9],\n",
        "                ])\n",
        "\n",
        "concatenates_array = concatenates_array(arr1, arr2, axis=1)\n",
        "print(\"concatenates_array_result axis 0:\")\n",
        "print(concatenates_array)\n",
        "\n"
      ],
      "metadata": {
        "id": "mYhX9YptZ0eb",
        "colab": {
          "base_uri": "https://localhost:8080/"
        },
        "outputId": "874dbe0b-9c02-4bc4-f018-a1b832ae0151"
      },
      "execution_count": 21,
      "outputs": [
        {
          "output_type": "stream",
          "name": "stdout",
          "text": [
            "concatenates_array_result axis 0:\n",
            "[[1 2 6]\n",
            " [3 8 7]\n",
            " [4 6 9]]\n"
          ]
        }
      ]
    },
    {
      "cell_type": "code",
      "source": [
        "# Write a function that vertically stacks multiple NumPy arrays given as a list.\n",
        "import numpy as np\n",
        "\n",
        "arr1 = np.array([[2,3],[4,5],[6,7]])\n",
        "arr2 = np.array([[2,5],[8,5],[9,7]])\n",
        "\n",
        "ver_stacks = np.vstack((arr1,arr2))\n",
        "print(\"ver_stacks:\")\n",
        "print(ver_stacks)\n",
        "\n",
        "\n",
        "\n"
      ],
      "metadata": {
        "colab": {
          "base_uri": "https://localhost:8080/"
        },
        "id": "ueCqZABPtdu9",
        "outputId": "93fae036-3ee2-4918-db81-642eada0ce7f"
      },
      "execution_count": 22,
      "outputs": [
        {
          "output_type": "stream",
          "name": "stdout",
          "text": [
            "ver_stacks:\n",
            "[[2 3]\n",
            " [4 5]\n",
            " [6 7]\n",
            " [2 5]\n",
            " [8 5]\n",
            " [9 7]]\n"
          ]
        }
      ]
    },
    {
      "cell_type": "code",
      "source": [
        " # Write a Python function using NumPy to create an array of integers within a specified range (inclusive) with a given step size.\n",
        "import numpy as np\n",
        "\n",
        "def create_integer_array(start, stop, step):\n",
        "    return np.arange(start, stop+1, step,)\n",
        "\n",
        "integer_array = create_integer_array(0, 10, 2)\n",
        "print(\"Array of integers:\", integer_array)\n",
        "\n"
      ],
      "metadata": {
        "colab": {
          "base_uri": "https://localhost:8080/"
        },
        "id": "-XnROhFwyMZJ",
        "outputId": "0ca5bb02-33ee-413e-afa1-943c5d4b6eee"
      },
      "execution_count": 23,
      "outputs": [
        {
          "output_type": "stream",
          "name": "stdout",
          "text": [
            "Array of integers: [ 0  2  4  6  8 10]\n"
          ]
        }
      ]
    },
    {
      "cell_type": "code",
      "source": [
        "  # Write a Python function using NumPy to generate an array of 10 equally spaced values between 0 and 1 (inclusive).\n",
        "import numpy as np\n",
        "\n",
        "def generate_equally_spaced_values():\n",
        "    return np.linspace(0, 1, 10)\n",
        "\n",
        "equally_values = generate_equally_spaced_values()\n",
        "print(\"Equally spaced values:\", equally_values)\n"
      ],
      "metadata": {
        "colab": {
          "base_uri": "https://localhost:8080/"
        },
        "id": "h5kRbvTzzPhK",
        "outputId": "c79f886b-c2b9-4d46-853e-09227e0f34df"
      },
      "execution_count": 24,
      "outputs": [
        {
          "output_type": "stream",
          "name": "stdout",
          "text": [
            "Equally spaced values: [0.         0.11111111 0.22222222 0.33333333 0.44444444 0.55555556\n",
            " 0.66666667 0.77777778 0.88888889 1.        ]\n"
          ]
        }
      ]
    },
    {
      "cell_type": "code",
      "source": [
        "# Write a Python function using NumPy to create an array of 5 logarithmically spaced values between 1 and 1000 (inclusive).\n",
        "import numpy as np\n",
        "\n",
        "def create_logarithmically_spaced_values():\n",
        "    return np.logspace(0, 3, 5)\n",
        "\n",
        "logarithmically_spaced_values = create_logarithmically_spaced_values()\n",
        "print(\"Logarithmically spaced values:\", logarithmically_spaced_values)\n"
      ],
      "metadata": {
        "colab": {
          "base_uri": "https://localhost:8080/"
        },
        "id": "Zx3lHzH7zmxR",
        "outputId": "1e525abd-0594-48fc-85eb-4e229b4b4558"
      },
      "execution_count": 25,
      "outputs": [
        {
          "output_type": "stream",
          "name": "stdout",
          "text": [
            "Logarithmically spaced values: [   1.            5.62341325   31.6227766   177.827941   1000.        ]\n"
          ]
        }
      ]
    },
    {
      "cell_type": "code",
      "source": [
        " # Create a Pandas DataFrame using a NumPy array that contains 5 rows and 3 columns, where the values are random integers between 1 and 100.\n",
        "import numpy as np\n",
        "import pandas as pd\n",
        "arr = np.random.randint(1,100, size=(5,3))\n",
        "df = pd.DataFrame(arr , columns= ['Column1', 'Column2', 'Column3'])\n",
        "print(df)\n"
      ],
      "metadata": {
        "colab": {
          "base_uri": "https://localhost:8080/"
        },
        "id": "nBrjEFP7z1Es",
        "outputId": "975e4674-1547-45d9-e1ad-dce858a8fcf7"
      },
      "execution_count": 26,
      "outputs": [
        {
          "output_type": "stream",
          "name": "stdout",
          "text": [
            "   Column1  Column2  Column3\n",
            "0       49       24       94\n",
            "1       41       80       32\n",
            "2       24       52        8\n",
            "3        7       46       25\n",
            "4       69       88       78\n"
          ]
        }
      ]
    },
    {
      "cell_type": "code",
      "source": [
        " # Write a function that takes a Pandas DataFrame and replaces all negative\n",
        "# values in a specific column with zeros. Use NumPy operations within the Pandas\n",
        "# DataFrame.\n",
        "\n",
        "import pandas as pd\n",
        "import numpy as np\n",
        "\n",
        "def replace_negatives_with_zero(df, column_name):\n",
        "    if column_name not in df.columns:\n",
        "        raise ValueError(f\"Column '{column_name}' does not exist in the DataFrame.\")\n",
        "\n",
        "    df[column_name] = np.where(df[column_name] < 0, 0, df[column_name])\n",
        "\n",
        "    return df\n",
        "# example\n",
        "\n",
        "data = {\n",
        "    'A': [1, -2, 3, -4, 5],\n",
        "    'B': [-1, 2, -3, 4, -5]\n",
        "}\n",
        "df = pd.DataFrame(data)\n",
        "df = replace_negatives_with_zero(df, 'A')\n",
        "print(df)\n",
        "\n",
        "\n"
      ],
      "metadata": {
        "id": "j3Rb6TOTz1HH",
        "colab": {
          "base_uri": "https://localhost:8080/"
        },
        "outputId": "018f7915-dde8-4c23-9132-456b3a32e419"
      },
      "execution_count": 27,
      "outputs": [
        {
          "output_type": "stream",
          "name": "stdout",
          "text": [
            "   A  B\n",
            "0  1 -1\n",
            "1  0  2\n",
            "2  3 -3\n",
            "3  0  4\n",
            "4  5 -5\n"
          ]
        }
      ]
    },
    {
      "cell_type": "code",
      "source": [
        " # Access the 3rd element from the given NumPy array.\n",
        " # arr = np.array([10, 20, 30, 40, 50])\n",
        "\n",
        "arr = np.array([10, 20, 30, 40, 50])\n",
        "third_element = arr[2]\n",
        "print(third_element)\n",
        "\n"
      ],
      "metadata": {
        "id": "ODErqdrHz1KV",
        "colab": {
          "base_uri": "https://localhost:8080/"
        },
        "outputId": "dd02c552-a47f-471c-b933-febaf05bfc40"
      },
      "execution_count": 28,
      "outputs": [
        {
          "output_type": "stream",
          "name": "stdout",
          "text": [
            "30\n"
          ]
        }
      ]
    },
    {
      "cell_type": "code",
      "source": [
        "# Retrieve the element at index (1, 2) from the 2D NumPy array.\n",
        "#arr_2d = np.array([[1, 2, 3], [4, 5, 6],[7, 8, 9]])\n",
        "\n",
        "arr_2d = np.array([\n",
        "    [1, 2, 3],\n",
        "    [4, 5, 6],\n",
        "    [7, 8, 9]\n",
        "])\n",
        "element = arr_2d[1, 2]\n",
        "\n",
        "print(element)\n",
        "\n"
      ],
      "metadata": {
        "colab": {
          "base_uri": "https://localhost:8080/"
        },
        "id": "JoaLfOiny8bz",
        "outputId": "b9a2a90d-a3e4-435e-cd69-ab10622833d0"
      },
      "execution_count": 29,
      "outputs": [
        {
          "output_type": "stream",
          "name": "stdout",
          "text": [
            "6\n"
          ]
        }
      ]
    },
    {
      "cell_type": "code",
      "source": [
        " # Using boolean indexing, extract elements greater than 5 from the given NumPy array arr = np.array([3, 8, 2, 10, 5, 7])\n",
        "\n",
        "arr = np.array([3, 8, 2, 10, 5, 7])\n",
        "result = arr[arr > 5]\n",
        "\n",
        "print(result)"
      ],
      "metadata": {
        "colab": {
          "base_uri": "https://localhost:8080/"
        },
        "id": "QuuJqtyqz561",
        "outputId": "e78ce1bc-7cbe-49ba-babb-684df4196f4d"
      },
      "execution_count": 30,
      "outputs": [
        {
          "output_type": "stream",
          "name": "stdout",
          "text": [
            "[ 8 10  7]\n"
          ]
        }
      ]
    },
    {
      "cell_type": "code",
      "source": [
        "# Perform basic slicing to extract elements from index 2 to 5 (inclusive) from the given NumPy array:\n",
        "arr = np.array([1, 2, 3, 4, 5, 6, 7, 8, 9])\n",
        "result = arr[2:6]\n",
        "print(result)"
      ],
      "metadata": {
        "colab": {
          "base_uri": "https://localhost:8080/"
        },
        "id": "1sLXU4Nm2Y5S",
        "outputId": "3214762e-d13a-4fba-cbb9-41f0f9f4669d"
      },
      "execution_count": 31,
      "outputs": [
        {
          "output_type": "stream",
          "name": "stdout",
          "text": [
            "[3 4 5 6]\n"
          ]
        }
      ]
    },
    {
      "cell_type": "code",
      "source": [
        "# Slice the 2D NumPy array to extract the sub-array [[2, 3], [5, 6]] from the given array:\n",
        "arr_2d = np.array([[1, 2, 3],\n",
        "                   [4, 5, 6],\n",
        "                   [7, 8, 9]])\n",
        "\n",
        "result = arr_2d[1:3, 1:3]\n",
        "\n",
        "print(result)\n",
        "result = np.concatenate([arr_2d[1, 1:3], arr_2d[2, 1:3]], axis=0)\n",
        "\n",
        "print(result)"
      ],
      "metadata": {
        "colab": {
          "base_uri": "https://localhost:8080/"
        },
        "id": "SsHwFbtq2uRO",
        "outputId": "27c6aaf9-3983-4245-eed3-bd186544d233"
      },
      "execution_count": 32,
      "outputs": [
        {
          "output_type": "stream",
          "name": "stdout",
          "text": [
            "[[5 6]\n",
            " [8 9]]\n",
            "[5 6 8 9]\n"
          ]
        }
      ]
    },
    {
      "cell_type": "code",
      "source": [
        "# Write a NumPy function to extract elements in specific order from a given 2D array based on indices\n",
        " # provided in another array\n",
        "import numpy as np\n",
        "\n",
        "def extract_elements(arr, indices):\n",
        "    return arr.flat[indices]\n",
        "\n",
        "arr = np.array([[1, 2, 3], [4, 5, 6], [7, 8, 9]])\n",
        "indices = np.array([1, 4, 7])\n",
        "print(extract_elements(arr, indices))"
      ],
      "metadata": {
        "colab": {
          "base_uri": "https://localhost:8080/"
        },
        "id": "SmJYmQUC28sW",
        "outputId": "672348e8-8e71-4e28-faaf-cda47d4713b1"
      },
      "execution_count": 33,
      "outputs": [
        {
          "output_type": "stream",
          "name": "stdout",
          "text": [
            "[2 5 8]\n"
          ]
        }
      ]
    },
    {
      "cell_type": "code",
      "source": [
        "#  Create a NumPy function that filters elements greater than a threshold from a given 1D array using\n",
        " # boolean indexing.\n",
        "def filter_elements(arr, threshold):\n",
        "    return arr[arr > threshold]\n",
        "\n",
        "arr = np.array([1, 2, 3, 4, 5])\n",
        "threshold = 3\n",
        "print(filter_elements(arr, threshold))"
      ],
      "metadata": {
        "colab": {
          "base_uri": "https://localhost:8080/"
        },
        "id": "VoRu08iX3KuT",
        "outputId": "4e6fe9cf-b0d9-4978-f064-2a930edd24fa"
      },
      "execution_count": 34,
      "outputs": [
        {
          "output_type": "stream",
          "name": "stdout",
          "text": [
            "[4 5]\n"
          ]
        }
      ]
    },
    {
      "cell_type": "code",
      "source": [
        "#  Develop a NumPy function that extracts specific elements from a 3D array using indices provided in three\n",
        " # separate arrays for each dimension.\n",
        "def extract_elements_3d(arr, indices1, indices2, indices3):\n",
        "    return arr[indices1, indices2, indices3]\n",
        "\n",
        "arr = np.array([[[1, 2], [3, 4]], [[5, 6], [7, 8]]])\n",
        "indices1 = np.array([0, 1])\n",
        "indices2 = np.array([1, 0])\n",
        "indices3 = np.array([0, 1])\n",
        "print(extract_elements_3d(arr, indices1, indices2, indices3))"
      ],
      "metadata": {
        "colab": {
          "base_uri": "https://localhost:8080/"
        },
        "id": "45vA9MxQ3TNQ",
        "outputId": "01dcdd8e-6010-450b-dd3d-90b713ab4729"
      },
      "execution_count": 35,
      "outputs": [
        {
          "output_type": "stream",
          "name": "stdout",
          "text": [
            "[3 6]\n"
          ]
        }
      ]
    },
    {
      "cell_type": "code",
      "source": [
        "#  Write a NumPy function that returns elements from an array where both two conditions are satisfied\n",
        " # using boolean indexing.\n",
        "def filter_elements_both(arr, condition1, condition2):\n",
        "    return arr[condition1 & condition2]\n",
        "\n",
        "arr = np.array([1, 2, 3, 4, 5])\n",
        "condition1 = arr > 2\n",
        "condition2 = arr < 5\n",
        "print(filter_elements_both(arr, condition1, condition2))"
      ],
      "metadata": {
        "colab": {
          "base_uri": "https://localhost:8080/"
        },
        "id": "R_Or_X9K3hvu",
        "outputId": "4bf436e9-2187-4bc7-be38-e66329a18389"
      },
      "execution_count": 36,
      "outputs": [
        {
          "output_type": "stream",
          "name": "stdout",
          "text": [
            "[3 4]\n"
          ]
        }
      ]
    },
    {
      "cell_type": "code",
      "source": [
        "# Create a NumPy function that extracts elements from a 2D array using row and column indices provided\n",
        " # in separate arrays.\n",
        "import numpy as np\n",
        "def extract_elements(arr, row_indices, col_indices):\n",
        "\n",
        "    arr = np.array([[1, 2, 3], [4, 5, 6], [7, 8, 9]])\n",
        "    return arr[row_indices, col_indices]\n",
        "\n",
        "row_indices = np.array([0, 2])\n",
        "col_indices = np.array([1, 2])\n",
        "\n",
        "result = extract_elements(arr, row_indices, col_indices)\n",
        "print(result)\n"
      ],
      "metadata": {
        "colab": {
          "base_uri": "https://localhost:8080/"
        },
        "id": "UZg_qzgI33nt",
        "outputId": "f8ac8bab-3301-43fe-a85b-695b53e668e1"
      },
      "execution_count": 37,
      "outputs": [
        {
          "output_type": "stream",
          "name": "stdout",
          "text": [
            "[2 9]\n"
          ]
        }
      ]
    },
    {
      "cell_type": "code",
      "source": [
        "# given an array arr of shape (3, 3), add a scalar value of 5 to each element using NumPy broadcasting.\n",
        "def add_scalar(arr, value):\n",
        "    return arr + value\n",
        "\n",
        "arr = np.array([[1, 2, 3], [4, 5, 6], [7, 8, 9]])\n",
        "value = 5\n",
        "print(add_scalar(arr, value))"
      ],
      "metadata": {
        "colab": {
          "base_uri": "https://localhost:8080/"
        },
        "id": "PvwN8_Jy4GKU",
        "outputId": "ff6c7659-fb38-4164-e84e-2525b543ba24"
      },
      "execution_count": 38,
      "outputs": [
        {
          "output_type": "stream",
          "name": "stdout",
          "text": [
            "[[ 6  7  8]\n",
            " [ 9 10 11]\n",
            " [12 13 14]]\n"
          ]
        }
      ]
    },
    {
      "cell_type": "code",
      "source": [
        "#  Consider two arrays arr1 of shape (1, 3) and arr2 of shape (3, 4). Multiply each row of arr2 by the\n",
        " # corresponding element in arr1 using NumPy broadcasting.\n",
        "\n",
        "def multiply_rows(arr1, arr2):\n",
        "    return arr1[:, np.newaxis] * arr2\n",
        "\n",
        "arr1 = np.array([1, 2, 3])\n",
        "arr2 = np.array([[4, 5], [6, 7], [8, 9]])\n",
        "print(multiply_rows(arr1, arr2))\n"
      ],
      "metadata": {
        "colab": {
          "base_uri": "https://localhost:8080/"
        },
        "id": "71oLRh4I4RXm",
        "outputId": "535b847b-3fb9-4e25-cc92-45302a6e03c1"
      },
      "execution_count": 39,
      "outputs": [
        {
          "output_type": "stream",
          "name": "stdout",
          "text": [
            "[[ 4  5]\n",
            " [12 14]\n",
            " [24 27]]\n"
          ]
        }
      ]
    },
    {
      "cell_type": "code",
      "source": [
        " # Given a 1D array arr1 of shape (1, 4) and a 2D array arr2 of shape (4, 3), add arr1 to each row of arr2 using\n",
        "# NumPy broadcasting.\n",
        "\n",
        "import numpy as np\n",
        "\n",
        "# Given arrays\n",
        "arr1 = np.array([[1, 2, 3, 4]])\n",
        "arr2 = np.array([[5, 6, 7], [8, 9, 10], [11, 12, 13], [14, 15, 16]])\n",
        "\n",
        "arr1_transposed = arr1.T\n",
        "result = arr1_transposed + arr2\n",
        "print(result)\n"
      ],
      "metadata": {
        "colab": {
          "base_uri": "https://localhost:8080/"
        },
        "id": "Y-47BBCH4XcB",
        "outputId": "41e98c0d-d9b4-415a-da06-6990bb8dfd77"
      },
      "execution_count": 40,
      "outputs": [
        {
          "output_type": "stream",
          "name": "stdout",
          "text": [
            "[[ 6  7  8]\n",
            " [10 11 12]\n",
            " [14 15 16]\n",
            " [18 19 20]]\n"
          ]
        }
      ]
    },
    {
      "cell_type": "code",
      "source": [
        "#  Consider two arrays arr1 of shape (3, 1) and arr2 of shape (1, 3). Add these arrays using NumPy\n",
        "# broadcasting.\n",
        "import numpy as np\n",
        "\n",
        "arr1 = np.array([[1], [2], [3]])\n",
        "arr2 = np.array([[4, 5, 6]])\n",
        "\n",
        "result = arr1 + arr2\n",
        "\n",
        "print(result)"
      ],
      "metadata": {
        "colab": {
          "base_uri": "https://localhost:8080/"
        },
        "id": "gBV0uj_F40il",
        "outputId": "35294b74-54e5-4546-ebd7-ab323fb10c49"
      },
      "execution_count": 41,
      "outputs": [
        {
          "output_type": "stream",
          "name": "stdout",
          "text": [
            "[[5 6 7]\n",
            " [6 7 8]\n",
            " [7 8 9]]\n"
          ]
        }
      ]
    },
    {
      "cell_type": "code",
      "source": [
        " #  Given arrays arr1 of shape (2, 3) and arr2 of shape (2, 2), perform multiplication using NumPy\n",
        " # broadcasting. Handle the shape incompatibility.\n",
        "\n",
        "arr1 = np.array([[1, 2, 3], [4, 5, 6]])\n",
        "arr2 = np.array([[7, 8], [9, 10]])\n",
        "\n",
        "arr2_reshaped = arr2[:, np.newaxis, :]\n",
        "result = arr1[..., np.newaxis] * arr2_reshaped\n",
        "print(\"Result of multiplication with broadcasting:\")\n",
        "print(result)\n",
        "\n"
      ],
      "metadata": {
        "colab": {
          "base_uri": "https://localhost:8080/"
        },
        "id": "1Y-iLqpD_F2l",
        "outputId": "289797e7-8b45-43c0-c648-f72122919e78"
      },
      "execution_count": 42,
      "outputs": [
        {
          "output_type": "stream",
          "name": "stdout",
          "text": [
            "Result of multiplication with broadcasting:\n",
            "[[[ 7  8]\n",
            "  [14 16]\n",
            "  [21 24]]\n",
            "\n",
            " [[36 40]\n",
            "  [45 50]\n",
            "  [54 60]]]\n"
          ]
        }
      ]
    },
    {
      "cell_type": "code",
      "source": [
        " #  Calculate column wise mean for the given array  arr = np.array([[1, 2, 3], [4, 5, 6]])\n",
        "arr = np.array([[1, 2, 3], [4, 5, 6]])\n",
        "column_mean = np.mean(arr, axis=0)\n",
        "column_mean\n",
        "\n"
      ],
      "metadata": {
        "colab": {
          "base_uri": "https://localhost:8080/"
        },
        "id": "xxgbnAdp_nAl",
        "outputId": "0ad74763-eea9-47eb-f115-af94dcd1c923"
      },
      "execution_count": 43,
      "outputs": [
        {
          "output_type": "execute_result",
          "data": {
            "text/plain": [
              "array([2.5, 3.5, 4.5])"
            ]
          },
          "metadata": {},
          "execution_count": 43
        }
      ]
    },
    {
      "cell_type": "code",
      "source": [
        " # Find maximum value in each row of the given array: arr = np.array([[1, 2, 3], [4, 5, 6]])\n",
        " row_max = np.max(arr, axis=1)\n",
        "row_max\n"
      ],
      "metadata": {
        "colab": {
          "base_uri": "https://localhost:8080/"
        },
        "id": "PgIwYYrLATsR",
        "outputId": "e19be780-5c92-4673-8e6a-e008f6b9c4ae"
      },
      "execution_count": 44,
      "outputs": [
        {
          "output_type": "execute_result",
          "data": {
            "text/plain": [
              "array([3, 6])"
            ]
          },
          "metadata": {},
          "execution_count": 44
        }
      ]
    },
    {
      "cell_type": "code",
      "source": [
        "#  For the given array, find indices of maximum value in each column. arr = np.array([[1, 2, 3], [4, 5, 6]])\n",
        "column_max_indices = np.argmax(arr, axis=0)\n",
        "column_max_indices\n"
      ],
      "metadata": {
        "colab": {
          "base_uri": "https://localhost:8080/"
        },
        "id": "JwB2sK8CAT8B",
        "outputId": "26fa32d6-08ce-45f8-fe2f-b066310ca26b"
      },
      "execution_count": 45,
      "outputs": [
        {
          "output_type": "execute_result",
          "data": {
            "text/plain": [
              "array([1, 1, 1])"
            ]
          },
          "metadata": {},
          "execution_count": 45
        }
      ]
    },
    {
      "cell_type": "code",
      "source": [
        "#  For the given array, apply custom function to calculate moving sum along rows. arr = np.array([[1, 2, 3], [4, 5, 6]])\n",
        "def moving_sum(arr, window_size=2):\n",
        "\n",
        "    return np.array([np.convolve(row, np.ones(window_size, dtype=int), 'valid') for row in arr])\n",
        "\n",
        "moving_sum_result = moving_sum(arr)\n",
        "moving_sum_result\n"
      ],
      "metadata": {
        "colab": {
          "base_uri": "https://localhost:8080/"
        },
        "id": "tWzYgtUrAULX",
        "outputId": "921c2e4b-c8bf-46f1-b525-5633db8eb3e1"
      },
      "execution_count": 46,
      "outputs": [
        {
          "output_type": "execute_result",
          "data": {
            "text/plain": [
              "array([[ 3,  5],\n",
              "       [ 9, 11]])"
            ]
          },
          "metadata": {},
          "execution_count": 46
        }
      ]
    },
    {
      "cell_type": "code",
      "source": [
        "# . In the given array, check if all elements in each column are even. arr = np.array([[2, 4, 6], [3, 5, 7]])\n",
        "arr = np.array([[2, 4, 6], [3, 5, 7]])\n",
        "\n",
        "all_even_columns = np.all(arr % 2 == 0, axis=0)\n",
        "all_even_columns\n"
      ],
      "metadata": {
        "colab": {
          "base_uri": "https://localhost:8080/"
        },
        "id": "VpU0XAjMAwQU",
        "outputId": "b0500962-6f7e-4b75-b982-52f610423b11"
      },
      "execution_count": 47,
      "outputs": [
        {
          "output_type": "execute_result",
          "data": {
            "text/plain": [
              "array([False, False, False])"
            ]
          },
          "metadata": {},
          "execution_count": 47
        }
      ]
    },
    {
      "cell_type": "code",
      "source": [
        "# Given a NumPy array arr, reshape it into a matrix of dimensions `m` rows and `n` columns. Return the\n",
        "# reshaped matrix  original_array = np.array([1, 2, 3, 4, 5, 6])\n",
        "def reshape_array(arr, m, n):\n",
        "    return arr.reshape(m, n)\n",
        "\n",
        "original_array = np.array([1, 2, 3, 4, 5, 6])\n",
        "reshaped_array = reshape_array(original_array, 2, 3)\n",
        "reshaped_array\n"
      ],
      "metadata": {
        "colab": {
          "base_uri": "https://localhost:8080/"
        },
        "id": "sj8SwqbACF10",
        "outputId": "52cc5a53-e240-4ea4-ff22-bb3ffbcd6c9c"
      },
      "execution_count": 48,
      "outputs": [
        {
          "output_type": "execute_result",
          "data": {
            "text/plain": [
              "array([[1, 2, 3],\n",
              "       [4, 5, 6]])"
            ]
          },
          "metadata": {},
          "execution_count": 48
        }
      ]
    },
    {
      "cell_type": "code",
      "source": [
        "# Create a function that takes a matrix as input and returns the flattened array\n",
        " # input_matrix = np.array([[1, 2, 3], [4, 5, 6]])\n",
        "\n",
        "def flatten_matrix(matrix):\n",
        "    return matrix.flatten()\n",
        "\n",
        "input_matrix = np.array([[1, 2, 3], [4, 5, 6]])\n",
        "flattened_array = flatten_matrix(input_matrix)\n",
        "flattened_array\n"
      ],
      "metadata": {
        "colab": {
          "base_uri": "https://localhost:8080/"
        },
        "id": "PG1FvnajCRCW",
        "outputId": "91b4e885-da8b-42e3-8941-0f487aa62d39"
      },
      "execution_count": 49,
      "outputs": [
        {
          "output_type": "execute_result",
          "data": {
            "text/plain": [
              "array([1, 2, 3, 4, 5, 6])"
            ]
          },
          "metadata": {},
          "execution_count": 49
        }
      ]
    },
    {
      "cell_type": "code",
      "source": [
        "# Write a function that concatenates two given arrays along a specified axis\n",
        "# array1 = np.array([[1, 2], [3, 4]])\n",
        "# array2 = np.array([[5, 6], [7, 8]])\n",
        "def concatenate_arrays(arr1, arr2, axis=0):\n",
        "    return np.concatenate((arr1, arr2), axis=axis)\n",
        "\n",
        "array1 = np.array([[1, 2], [3, 4]])\n",
        "array2 = np.array([[5, 6], [7, 8]])\n",
        "concatenated_array = concatenate_arrays(array1, array2, axis=0)\n",
        "concatenated_array\n"
      ],
      "metadata": {
        "colab": {
          "base_uri": "https://localhost:8080/"
        },
        "id": "JULfqPtNCRMX",
        "outputId": "f419d7ed-57fd-492e-bf48-891478ec7985"
      },
      "execution_count": 50,
      "outputs": [
        {
          "output_type": "execute_result",
          "data": {
            "text/plain": [
              "array([[1, 2],\n",
              "       [3, 4],\n",
              "       [5, 6],\n",
              "       [7, 8]])"
            ]
          },
          "metadata": {},
          "execution_count": 50
        }
      ]
    },
    {
      "cell_type": "code",
      "source": [
        "# Create a function that splits an array into multiple sub-arrays along a specified axis.\n",
        "# original_array = np.array([[1, 2, 3], [4, 5, 6], [7, 8, 9]])\n",
        "def split_array(arr, indices, axis=0):\n",
        "    return np.array_split(arr, indices, axis=axis)\n",
        "\n",
        "original_array = np.array([[1, 2, 3], [4, 5, 6], [7, 8, 9]])\n",
        "split_arrays = split_array(original_array, 2, axis=0)\n",
        "\n",
        "split_arrays\n"
      ],
      "metadata": {
        "colab": {
          "base_uri": "https://localhost:8080/"
        },
        "id": "9wu9Uz5_CRPT",
        "outputId": "171760c1-f319-48a5-8a71-572961ea85db"
      },
      "execution_count": 51,
      "outputs": [
        {
          "output_type": "execute_result",
          "data": {
            "text/plain": [
              "[array([[1, 2, 3],\n",
              "        [4, 5, 6]]),\n",
              " array([[7, 8, 9]])]"
            ]
          },
          "metadata": {},
          "execution_count": 51
        }
      ]
    },
    {
      "cell_type": "code",
      "source": [
        " # . Write a function that inserts and then deletes elements from a given array\n",
        "# at specified indices. %%\n",
        "# original_array = np.array([1, 2, 3, 4, 5])\n",
        "# indices_to_insert = [2, 4]\n",
        "# values_to_insert = [10, 11]\n",
        "# indices_to_delete = [1, 3]\n",
        "def insert_and_delete_elements(arr, indices_to_insert, values_to_insert,\n",
        "                               indices_to_delete):\n",
        "    arr = np.insert(arr, indices_to_insert, values_to_insert)\n",
        "    arr = np.delete(arr, indices_to_delete)\n",
        "    return arr\n",
        "\n",
        "\n",
        "original_array = np.array([1, 2, 3, 4, 5])\n",
        "indices_to_insert = [2, 4]\n",
        "values_to_insert = [10, 11]\n",
        "indices_to_delete = [1, 3]\n",
        "modified_array = insert_and_delete_elements(original_array, indices_to_insert,\n",
        "values_to_insert, indices_to_delete)\n",
        "modified_array\n"
      ],
      "metadata": {
        "colab": {
          "base_uri": "https://localhost:8080/"
        },
        "id": "fuSpEtXgCRR5",
        "outputId": "17c2a1f8-6ad9-4df4-895b-1e890038b855"
      },
      "execution_count": 52,
      "outputs": [
        {
          "output_type": "execute_result",
          "data": {
            "text/plain": [
              "array([ 1, 10,  4, 11,  5])"
            ]
          },
          "metadata": {},
          "execution_count": 52
        }
      ]
    },
    {
      "cell_type": "code",
      "source": [
        "#  Create a NumPy array `arr1` with random integers and another array `arr2` with integers from 1 to 10.\n",
        " # Perform element-wise addition between `arr1` and `arr2`.\n",
        "arr1 = np.random.randint(1, 100, size=10)\n",
        "arr2 = np.arange(1, 11)\n",
        "result_addition = arr1 + arr2\n",
        "arr1, arr2, result_addition\n",
        "\n"
      ],
      "metadata": {
        "colab": {
          "base_uri": "https://localhost:8080/"
        },
        "id": "DgcriQfXCRUr",
        "outputId": "f0c5e013-3d27-4056-8cf3-73828be28fb1"
      },
      "execution_count": 53,
      "outputs": [
        {
          "output_type": "execute_result",
          "data": {
            "text/plain": [
              "(array([34, 97, 33, 42, 12, 90, 25, 91, 76, 90]),\n",
              " array([ 1,  2,  3,  4,  5,  6,  7,  8,  9, 10]),\n",
              " array([ 35,  99,  36,  46,  17,  96,  32,  99,  85, 100]))"
            ]
          },
          "metadata": {},
          "execution_count": 53
        }
      ]
    },
    {
      "cell_type": "code",
      "source": [
        "#Generate a NumPy array `arr1` with sequential integers from 10 to 1 and another array `arr2` with integers\n",
        "# from 1 to 10. Subtract `arr2` from `arr1` element-wise.\n",
        "arr1 = np.arange(10, 0, -1)\n",
        "arr2 = np.arange(1, 11)\n",
        "result_subtraction = arr1 - arr2\n",
        "arr1, arr2, result_subtraction\n"
      ],
      "metadata": {
        "colab": {
          "base_uri": "https://localhost:8080/"
        },
        "id": "GSyHkM6-CRXv",
        "outputId": "c9df34ed-29c2-4e2b-f04a-1c92ce082682"
      },
      "execution_count": 54,
      "outputs": [
        {
          "output_type": "execute_result",
          "data": {
            "text/plain": [
              "(array([10,  9,  8,  7,  6,  5,  4,  3,  2,  1]),\n",
              " array([ 1,  2,  3,  4,  5,  6,  7,  8,  9, 10]),\n",
              " array([ 9,  7,  5,  3,  1, -1, -3, -5, -7, -9]))"
            ]
          },
          "metadata": {},
          "execution_count": 54
        }
      ]
    },
    {
      "cell_type": "code",
      "source": [
        "#Create a NumPy array `arr1` with random integers and another array `arr2` with integers from 1 to 5.\n",
        "#Perform element-wise multiplication between `arr1` and `arr2`.\n",
        "arr1 = np.random.randint(1, 100, size=5)\n",
        "arr2 = np.arange(1, 6)\n",
        "result_multiplication = arr1 * arr2\n",
        "arr1, arr2, result_multiplication\n"
      ],
      "metadata": {
        "colab": {
          "base_uri": "https://localhost:8080/"
        },
        "id": "5nkiNqFQCRZ0",
        "outputId": "bbe1cff6-a5ef-4559-fc22-7e85008edf30"
      },
      "execution_count": 55,
      "outputs": [
        {
          "output_type": "execute_result",
          "data": {
            "text/plain": [
              "(array([92, 42, 16, 41, 75]),\n",
              " array([1, 2, 3, 4, 5]),\n",
              " array([ 92,  84,  48, 164, 375]))"
            ]
          },
          "metadata": {},
          "execution_count": 55
        }
      ]
    },
    {
      "cell_type": "code",
      "source": [
        "#  Generate a NumPy array `arr1` with even integers from 2 to 10 and another array `arr2` with integers from 1\n",
        " # to 5. Perform element-wise division of `arr1` by `arr2`.\n",
        "arr1 = np.arange(2, 11, 2)\n",
        "arr2 = np.arange(1, 6)\n",
        "result_division = arr1 / arr2\n",
        "arr1, arr2, result_division\n"
      ],
      "metadata": {
        "colab": {
          "base_uri": "https://localhost:8080/"
        },
        "id": "g-w5VY6NCRci",
        "outputId": "f3d32005-1e4f-467a-8f36-e7eba7aa7c39"
      },
      "execution_count": 56,
      "outputs": [
        {
          "output_type": "execute_result",
          "data": {
            "text/plain": [
              "(array([ 2,  4,  6,  8, 10]),\n",
              " array([1, 2, 3, 4, 5]),\n",
              " array([2., 2., 2., 2., 2.]))"
            ]
          },
          "metadata": {},
          "execution_count": 56
        }
      ]
    },
    {
      "cell_type": "code",
      "source": [
        "# Create a NumPy array `arr1` with integers from 1 to 5 and another array `arr2` with the same numbers\n",
        "# reversed. Calculate the exponentiation of `arr1` raised to the power of `arr2` element-wise.\n",
        "arr1 = np.arange(1, 6)\n",
        "arr2 = arr1[::-1]\n",
        "result_exponentiation = arr1 ** arr2\n",
        "arr1, arr2, result_exponentiation\n"
      ],
      "metadata": {
        "colab": {
          "base_uri": "https://localhost:8080/"
        },
        "id": "TK7ct_XyCRfD",
        "outputId": "44869285-df56-4193-a448-f1584f113e77"
      },
      "execution_count": 57,
      "outputs": [
        {
          "output_type": "execute_result",
          "data": {
            "text/plain": [
              "(array([1, 2, 3, 4, 5]), array([5, 4, 3, 2, 1]), array([ 1, 16, 27, 16,  5]))"
            ]
          },
          "metadata": {},
          "execution_count": 57
        }
      ]
    },
    {
      "cell_type": "code",
      "source": [
        "# Write a function that counts the occurrences of a specific substring within a\n",
        "# NumPy array of strings. %%  arr = np.array(['hello', 'world', 'hello', 'numpy', 'hello'])\n",
        "def count_substring(arr, substring):\n",
        "    return np.char.count(arr, substring)\n",
        "\n",
        "arr = np.array(['hello', 'world', 'hello', 'numpy', 'hello'])\n",
        "substring_count = count_substring(arr, 'hello')\n",
        "substring_count\n"
      ],
      "metadata": {
        "colab": {
          "base_uri": "https://localhost:8080/"
        },
        "id": "-q8ZEeqICRhk",
        "outputId": "ca32149c-d7a4-4095-c996-5ecfbca3a6fa"
      },
      "execution_count": 58,
      "outputs": [
        {
          "output_type": "execute_result",
          "data": {
            "text/plain": [
              "array([1, 0, 1, 0, 1])"
            ]
          },
          "metadata": {},
          "execution_count": 58
        }
      ]
    },
    {
      "cell_type": "code",
      "source": [
        "#  Write a function that extracts uppercase characters from a NumPy array of strings.\n",
        "#arr = np.array(['Hello', 'World', 'OpenAI', 'GPT'])\n",
        "# arr = np.array(['Hello', 'World', 'OpenAI', 'GPT'])\n",
        "import numpy as np\n",
        "import re\n",
        "\n",
        "def extract_uppercase(arr):\n",
        "    result = []\n",
        "    for string in arr:\n",
        "        uppercase_chars = \"\".join(re.findall(r'[A-Z]', string))\n",
        "        result.append(uppercase_chars)\n",
        "    return np.array(result)\n",
        "\n",
        "arr = np.array(['Hello', 'World', 'OpenAI', 'GPT'])\n",
        "uppercase_characters = extract_uppercase(arr)\n",
        "print(uppercase_characters)\n"
      ],
      "metadata": {
        "colab": {
          "base_uri": "https://localhost:8080/"
        },
        "id": "nA14yz31CRlF",
        "outputId": "c61a5189-022c-4e25-9406-423f71486617"
      },
      "execution_count": 59,
      "outputs": [
        {
          "output_type": "stream",
          "name": "stdout",
          "text": [
            "['H' 'W' 'OAI' 'GPT']\n"
          ]
        }
      ]
    },
    {
      "cell_type": "code",
      "source": [
        " # Write a function that replaces occurrences of a substring in a NumPy array of strings with a new string.\n",
        " # arr = np.array(['apple', 'banana', 'grape', 'pineapple'])\n",
        " def replace_substring(arr, old, new):\n",
        "    return np.char.replace(arr, old, new)\n",
        "\n",
        "\n",
        "arr = np.array(['apple', 'banana', 'grape', 'pineapple'])\n",
        "replaced_array = replace_substring(arr, 'apple', 'orange')\n",
        "replaced_array\n"
      ],
      "metadata": {
        "colab": {
          "base_uri": "https://localhost:8080/"
        },
        "id": "z_g-0C7qGbbD",
        "outputId": "fab4bd5a-7a7a-45e5-b748-4dd63bfd3faf"
      },
      "execution_count": 60,
      "outputs": [
        {
          "output_type": "execute_result",
          "data": {
            "text/plain": [
              "array(['orange', 'banana', 'grape', 'pineorange'], dtype='<U10')"
            ]
          },
          "metadata": {},
          "execution_count": 60
        }
      ]
    },
    {
      "cell_type": "code",
      "source": [
        " #. Write a function that concatenates strings in a NumPy array element-wise  .arr1 = np.array(['Hello', 'World'])\n",
        " # arr2 = np.array(['Open', 'AI'])\n",
        " def concatenate_strings(arr1, arr2):\n",
        "    return np.char.add(arr1, arr2)\n",
        "\n",
        "# Example usage\n",
        "arr1 = np.array(['Hello', 'World'])\n",
        "arr2 = np.array(['Open', 'AI'])\n",
        "concatenated_array = concatenate_strings(arr1, arr2)\n",
        "concatenated_array\n",
        "\n"
      ],
      "metadata": {
        "colab": {
          "base_uri": "https://localhost:8080/"
        },
        "id": "MPeJz7WjM8V6",
        "outputId": "91fc5315-96af-42a1-f003-7623760f3192"
      },
      "execution_count": 61,
      "outputs": [
        {
          "output_type": "execute_result",
          "data": {
            "text/plain": [
              "array(['HelloOpen', 'WorldAI'], dtype='<U9')"
            ]
          },
          "metadata": {},
          "execution_count": 61
        }
      ]
    },
    {
      "cell_type": "code",
      "source": [
        "#  Write a function that finds the length of the longest string in a NumPy array.\n",
        "\n",
        "# arr = np.array(['apple', 'banana', 'grape', 'pineapple'])\n",
        "\n",
        "def length_of_longest_string(arr):\n",
        "    return np.max(np.char.str_len(arr))\n",
        "\n",
        "# Example usage\n",
        "arr = np.array(['apple', 'banana', 'grape', 'pineapple'])\n",
        "longest_length = length_of_longest_string(arr)\n",
        "longest_length\n"
      ],
      "metadata": {
        "colab": {
          "base_uri": "https://localhost:8080/"
        },
        "id": "ZDlUMU32Ntof",
        "outputId": "5b0bed31-f265-4b11-d7ac-33436e65275c"
      },
      "execution_count": 62,
      "outputs": [
        {
          "output_type": "execute_result",
          "data": {
            "text/plain": [
              "9"
            ]
          },
          "metadata": {},
          "execution_count": 62
        }
      ]
    },
    {
      "cell_type": "code",
      "source": [
        " # Create a dataset of 100 random integers between 1 and 1000. Compute the mean, median, variance, and\n",
        "# standard deviation of the dataset using NumPy's functions.\n",
        "dataset = np.random.randint(1, 1001, size=100)\n",
        "mean = np.mean(dataset)\n",
        "median = np.median(dataset)\n",
        "variance = np.var(dataset)\n",
        "std_dev = np.std(dataset)\n",
        "\n",
        "mean, median, variance, std_dev\n"
      ],
      "metadata": {
        "colab": {
          "base_uri": "https://localhost:8080/"
        },
        "id": "bkBUjpp2N-8G",
        "outputId": "8757e1a8-2a0f-482a-955c-48dcbf1f07a0"
      },
      "execution_count": 63,
      "outputs": [
        {
          "output_type": "execute_result",
          "data": {
            "text/plain": [
              "(552.39, 566.5, 72885.13790000002, 269.9724761897035)"
            ]
          },
          "metadata": {},
          "execution_count": 63
        }
      ]
    },
    {
      "cell_type": "code",
      "source": [
        "#  Generate an array of 50 random numbers between 1 and 100. Find the 25th and 75th percentiles of the\n",
        "# dataset.\n",
        "random_numbers = np.random.randint(1, 101, size=50)\n",
        "percentile_25 = np.percentile(random_numbers, 25)\n",
        "percentile_75 = np.percentile(random_numbers, 75)\n",
        "\n",
        "percentile_25, percentile_75\n"
      ],
      "metadata": {
        "colab": {
          "base_uri": "https://localhost:8080/"
        },
        "id": "Y79Nt3aLOAQq",
        "outputId": "1d96b994-9b5d-49a1-ae1d-b551ed3d9d0a"
      },
      "execution_count": 64,
      "outputs": [
        {
          "output_type": "execute_result",
          "data": {
            "text/plain": [
              "(25.0, 77.75)"
            ]
          },
          "metadata": {},
          "execution_count": 64
        }
      ]
    },
    {
      "cell_type": "code",
      "source": [
        "# Create two arrays representing two sets of variables. Compute the correlation coefficient between these\n",
        "# arrays using NumPy's `corrcoef` function.\n",
        "array1 = np.random.rand(100)\n",
        "array2 = np.random.rand(100)\n",
        "correlation_coefficient = np.corrcoef(array1, array2)\n",
        "\n",
        "correlation_coefficient\n"
      ],
      "metadata": {
        "colab": {
          "base_uri": "https://localhost:8080/"
        },
        "id": "3I8W_IPGOATH",
        "outputId": "78607a97-e30e-4539-ff3f-0b5a6d63f85b"
      },
      "execution_count": 65,
      "outputs": [
        {
          "output_type": "execute_result",
          "data": {
            "text/plain": [
              "array([[1.        , 0.07973534],\n",
              "       [0.07973534, 1.        ]])"
            ]
          },
          "metadata": {},
          "execution_count": 65
        }
      ]
    },
    {
      "cell_type": "code",
      "source": [
        " # Create two matrices and perform matrix multiplication using NumPy's `dot` function\n",
        " matrix1 = np.random.rand(3, 2)\n",
        "matrix2 = np.random.rand(2, 3)\n",
        "matrix_product = np.dot(matrix1, matrix2)\n",
        "\n",
        "matrix_product\n"
      ],
      "metadata": {
        "colab": {
          "base_uri": "https://localhost:8080/"
        },
        "id": "JTy22wH8OAWF",
        "outputId": "271ad6d2-4f29-481f-aa34-f2e1aafb72de"
      },
      "execution_count": 66,
      "outputs": [
        {
          "output_type": "execute_result",
          "data": {
            "text/plain": [
              "array([[0.15972224, 0.47269691, 0.47699836],\n",
              "       [0.16951636, 0.26480656, 0.69667761],\n",
              "       [0.09928957, 0.37270297, 0.23312653]])"
            ]
          },
          "metadata": {},
          "execution_count": 66
        }
      ]
    },
    {
      "cell_type": "code",
      "source": [
        "# . Create an array of 50 integers between 10 and 1000. Calculate the 10th, 50th (median), and 90th\n",
        "# percentiles along with the first and third quartiles.\n",
        "integers_array = np.random.randint(10, 1001, size=50)\n",
        "percentile_10 = np.percentile(integers_array, 10)\n",
        "percentile_50 = np.percentile(integers_array, 50)\n",
        "percentile_90 = np.percentile(integers_array, 90)\n",
        "quartile_1 = np.percentile(integers_array, 25)\n",
        "quartile_3 = np.percentile(integers_array, 75)\n",
        "\n",
        "percentile_10, percentile_50, percentile_90, quartile_1, quartile_3\n"
      ],
      "metadata": {
        "colab": {
          "base_uri": "https://localhost:8080/"
        },
        "id": "-L407u5AOAYX",
        "outputId": "04024fa8-901f-4aa9-c411-6c1cd87b8fcc"
      },
      "execution_count": 67,
      "outputs": [
        {
          "output_type": "execute_result",
          "data": {
            "text/plain": [
              "(117.80000000000001, 499.0, 872.2, 305.5, 691.0)"
            ]
          },
          "metadata": {},
          "execution_count": 67
        }
      ]
    },
    {
      "cell_type": "code",
      "source": [
        "#  Create a NumPy array of integers and find the index of a specific element\n",
        "arr = np.array([10, 20, 30, 40, 50])\n",
        "index_of_element = np.where(arr == 30)[0][0]\n",
        "\n",
        "index_of_element\n"
      ],
      "metadata": {
        "colab": {
          "base_uri": "https://localhost:8080/"
        },
        "id": "Cg7nahTaOAbz",
        "outputId": "a456e5c7-73b5-44ea-9743-c3e8f78ce7e6"
      },
      "execution_count": 68,
      "outputs": [
        {
          "output_type": "execute_result",
          "data": {
            "text/plain": [
              "2"
            ]
          },
          "metadata": {},
          "execution_count": 68
        }
      ]
    },
    {
      "cell_type": "code",
      "source": [
        "# Generate a random NumPy array and sort it in ascending order.\n",
        "random_array = np.random.randint(1, 101, size=10)\n",
        "sorted_array = np.sort(random_array)\n",
        "\n",
        "sorted_array\n"
      ],
      "metadata": {
        "colab": {
          "base_uri": "https://localhost:8080/"
        },
        "id": "sQj7EzKLOAgT",
        "outputId": "5364600b-6f39-44d5-8da7-babb44475b93"
      },
      "execution_count": 69,
      "outputs": [
        {
          "output_type": "execute_result",
          "data": {
            "text/plain": [
              "array([17, 23, 30, 39, 41, 48, 49, 77, 79, 99])"
            ]
          },
          "metadata": {},
          "execution_count": 69
        }
      ]
    },
    {
      "cell_type": "code",
      "source": [
        "#  Filter elements >20  in the given NumPy array. arr = np.array([12, 25, 6, 42, 8, 30])\n",
        "arr = np.array([12, 25, 6, 42, 8, 30])\n",
        "filtered_elements = arr[arr > 20]\n",
        "\n",
        "filtered_elements\n"
      ],
      "metadata": {
        "colab": {
          "base_uri": "https://localhost:8080/"
        },
        "id": "PnegjkPXOAjI",
        "outputId": "46801729-ca35-4830-81a8-7352ca6da606"
      },
      "execution_count": 70,
      "outputs": [
        {
          "output_type": "execute_result",
          "data": {
            "text/plain": [
              "array([25, 42, 30])"
            ]
          },
          "metadata": {},
          "execution_count": 70
        }
      ]
    },
    {
      "cell_type": "code",
      "source": [
        "# Filter elements which are divisible by 3 from a given NumPy array.\n",
        "# arr = np.array([1, 5, 8, 12, 15])\n",
        "arr = np.array([1, 5, 8, 12, 15])\n",
        "divisible_by_3 = arr[arr % 3 == 0]\n",
        "\n",
        "divisible_by_3\n"
      ],
      "metadata": {
        "colab": {
          "base_uri": "https://localhost:8080/"
        },
        "id": "xwujnQBFOAlx",
        "outputId": "6da119ba-c978-4002-94c0-2d6e0f620183"
      },
      "execution_count": 71,
      "outputs": [
        {
          "output_type": "execute_result",
          "data": {
            "text/plain": [
              "array([12, 15])"
            ]
          },
          "metadata": {},
          "execution_count": 71
        }
      ]
    },
    {
      "cell_type": "code",
      "source": [
        "# Filter elements which are ≥ 20 and ≤ 40 from a given NumPy array.\n",
        "# arr = np.array([10, 20, 30, 40, 50])\n",
        "arr = np.array([10, 20, 30, 40, 50])\n",
        "filtered_elements = arr[(arr >= 20) & (arr <= 40)]\n",
        "\n",
        "filtered_elements\n"
      ],
      "metadata": {
        "colab": {
          "base_uri": "https://localhost:8080/"
        },
        "id": "3HxNMYKyOAod",
        "outputId": "517c2a8e-198a-429e-f7f7-6c1e447b4d7c"
      },
      "execution_count": 72,
      "outputs": [
        {
          "output_type": "execute_result",
          "data": {
            "text/plain": [
              "array([20, 30, 40])"
            ]
          },
          "metadata": {},
          "execution_count": 72
        }
      ]
    },
    {
      "cell_type": "code",
      "source": [
        "# For the given NumPy array, check its byte order using the `dtype` attribute byteorder.\n",
        "# arr = np.array([1, 2, 3])\n",
        "arr = np.array([1, 2, 3])\n",
        "byte_order = arr.dtype.byteorder\n",
        "\n",
        "byte_order\n"
      ],
      "metadata": {
        "colab": {
          "base_uri": "https://localhost:8080/",
          "height": 36
        },
        "id": "gkHqT8s6OArS",
        "outputId": "fb087347-dbfb-43ee-f0e8-6360a25b4268"
      },
      "execution_count": 73,
      "outputs": [
        {
          "output_type": "execute_result",
          "data": {
            "text/plain": [
              "'='"
            ],
            "application/vnd.google.colaboratory.intrinsic+json": {
              "type": "string"
            }
          },
          "metadata": {},
          "execution_count": 73
        }
      ]
    },
    {
      "cell_type": "code",
      "source": [
        "# For the given NumPy array, perform byte swapping in place using `byteswap()`.\n",
        "# arr = np.array([1, 2, 3], dtype=np.int32)\n",
        "arr = np.array([1, 2, 3], dtype=np.int32)\n",
        "arr.byteswap(inplace=True)\n",
        "arr\n",
        "\n"
      ],
      "metadata": {
        "colab": {
          "base_uri": "https://localhost:8080/"
        },
        "id": "S9-p9yZEOAuF",
        "outputId": "8fb8f3c1-1a74-4e0a-a8ba-35108fc6354a"
      },
      "execution_count": 74,
      "outputs": [
        {
          "output_type": "execute_result",
          "data": {
            "text/plain": [
              "array([16777216, 33554432, 50331648], dtype=int32)"
            ]
          },
          "metadata": {},
          "execution_count": 74
        }
      ]
    },
    {
      "cell_type": "code",
      "source": [
        "# . For the given NumPy array, swap its byte order without modifying the original array using\n",
        "# `newbyteorder()`. arr = np.array([1, 2, 3], dtype=np.int32)\n",
        "arr = np.array([1, 2, 3], dtype=np.int32)\n",
        "swapped_arr = arr.byteswap().newbyteorder()\n",
        "swapped_arr\n"
      ],
      "metadata": {
        "colab": {
          "base_uri": "https://localhost:8080/"
        },
        "id": "5TyHi--5OAxF",
        "outputId": "8435823c-246e-4e79-834d-16d9708e35ee"
      },
      "execution_count": 75,
      "outputs": [
        {
          "output_type": "execute_result",
          "data": {
            "text/plain": [
              "array([1, 2, 3], dtype='>i4')"
            ]
          },
          "metadata": {},
          "execution_count": 75
        }
      ]
    },
    {
      "cell_type": "code",
      "source": [
        "# For the given NumPy array and swap its byte order conditionally based on system endianness using\n",
        "# `newbyteorder()`. arr = np.array([1, 2, 3], dtype=np.int32)\n",
        "arr = np.array([1, 2, 3], dtype=np.int32)\n",
        "if arr.dtype.byteorder == '=':  # native byte order\n",
        "    swapped_arr = arr.byteswap().newbyteorder()\n",
        "else:\n",
        "    swapped_arr = arr.copy()\n",
        "swapped_arr\n"
      ],
      "metadata": {
        "colab": {
          "base_uri": "https://localhost:8080/"
        },
        "id": "GBAgjXJsOA0h",
        "outputId": "3a66271b-e6c4-43a4-a89c-8bddef9cec7d"
      },
      "execution_count": 76,
      "outputs": [
        {
          "output_type": "execute_result",
          "data": {
            "text/plain": [
              "array([1, 2, 3], dtype='>i4')"
            ]
          },
          "metadata": {},
          "execution_count": 76
        }
      ]
    },
    {
      "cell_type": "code",
      "source": [
        "# For the given NumPy array, check if byte swapping is necessary for the current system using `dtype`\n",
        "# attribute `byteorder`. arr = np.array([1, 2, 3], dtype=np.int32)\n",
        "arr = np.array([1, 2, 3], dtype=np.int32)\n",
        "needs_byteswap = arr.dtype.byteorder not in ('=', '|')\n",
        "needs_byteswap\n"
      ],
      "metadata": {
        "colab": {
          "base_uri": "https://localhost:8080/"
        },
        "id": "m9FHdvKNQ_oA",
        "outputId": "05ff7f9c-97a8-4614-ebd6-b3d5f51b2adf"
      },
      "execution_count": 77,
      "outputs": [
        {
          "output_type": "execute_result",
          "data": {
            "text/plain": [
              "False"
            ]
          },
          "metadata": {},
          "execution_count": 77
        }
      ]
    },
    {
      "cell_type": "code",
      "source": [
        "#  Create a NumPy array `arr1` with values from 1 to 10. Create a copy of `arr1` named `copy_arr` and modify\n",
        "# an element in `copy_arr`. Check if modifying `copy_arr` affects `arr1`.\n",
        "arr1 = np.arange(1, 11)\n",
        "copy_arr = arr1.copy()\n",
        "copy_arr[0] = 100\n",
        "(arr1, copy_arr)\n"
      ],
      "metadata": {
        "colab": {
          "base_uri": "https://localhost:8080/"
        },
        "id": "aDhtxHmTQ_zt",
        "outputId": "488bd61a-87b0-44bd-e22c-9c2cab2dcca3"
      },
      "execution_count": 78,
      "outputs": [
        {
          "output_type": "execute_result",
          "data": {
            "text/plain": [
              "(array([ 1,  2,  3,  4,  5,  6,  7,  8,  9, 10]),\n",
              " array([100,   2,   3,   4,   5,   6,   7,   8,   9,  10]))"
            ]
          },
          "metadata": {},
          "execution_count": 78
        }
      ]
    },
    {
      "cell_type": "code",
      "source": [
        "# Create a 2D NumPy array `matrix` of shape (3, 3) with random integers. Extract a slice `view_slice` from\n",
        "# the matrix. Modify an element in `view_slice` and observe if it changes the original `matrix`.\n",
        "matrix = np.random.randint(1, 100, size=(3, 3))\n",
        "view_slice = matrix[1:, 1:]\n",
        "view_slice[0, 0] = 999\n",
        "(matrix, view_slice)\n"
      ],
      "metadata": {
        "colab": {
          "base_uri": "https://localhost:8080/"
        },
        "id": "12UGDgDFQ_2N",
        "outputId": "27c475b4-e468-4c4c-8dfe-05b5c81d297a"
      },
      "execution_count": 79,
      "outputs": [
        {
          "output_type": "execute_result",
          "data": {
            "text/plain": [
              "(array([[ 13,  98,   5],\n",
              "        [ 60, 999,  98],\n",
              "        [  2,   3,  95]]),\n",
              " array([[999,  98],\n",
              "        [  3,  95]]))"
            ]
          },
          "metadata": {},
          "execution_count": 79
        }
      ]
    },
    {
      "cell_type": "code",
      "source": [
        "# Create a NumPy array `array_a` of shape (4, 3) with sequential integers from 1 to 12. Extract a slice\n",
        "# `view_b` from `array_a` and broadcast the addition of 5 to view_b. Check if it alters the original `array_a`\n",
        "array_a = np.arange(1, 13).reshape(4, 3)\n",
        "view_b = array_a[:, 1:]\n",
        "view_b += 5\n",
        "array_a\n"
      ],
      "metadata": {
        "colab": {
          "base_uri": "https://localhost:8080/"
        },
        "id": "6Lf4MjyAQ_4x",
        "outputId": "d167f34e-a439-4a31-97b5-24e5b1e47e20"
      },
      "execution_count": 80,
      "outputs": [
        {
          "output_type": "execute_result",
          "data": {
            "text/plain": [
              "array([[ 1,  7,  8],\n",
              "       [ 4, 10, 11],\n",
              "       [ 7, 13, 14],\n",
              "       [10, 16, 17]])"
            ]
          },
          "metadata": {},
          "execution_count": 80
        }
      ]
    },
    {
      "cell_type": "code",
      "source": [
        "#  Create a NumPy array `orig_array` of shape (2, 4) with values from 1 to 8. Create a reshaped view\n",
        "#`reshaped_view` of shape (4, 2) from orig_array. Modify an element in `reshaped_view` and check if it\n",
        "# reflects changes in the original `orig_array`.\n",
        "orig_array = np.arange(1, 9).reshape(2, 4)\n",
        "reshaped_view = orig_array.reshape(4, 2)\n",
        "reshaped_view[0, 0] = 100\n",
        "(orig_array, reshaped_view)\n"
      ],
      "metadata": {
        "colab": {
          "base_uri": "https://localhost:8080/"
        },
        "id": "UI6RCQU_Q_7l",
        "outputId": "5eb20893-f07e-4241-f81b-7e7dc7d1d7ec"
      },
      "execution_count": 81,
      "outputs": [
        {
          "output_type": "execute_result",
          "data": {
            "text/plain": [
              "(array([[100,   2,   3,   4],\n",
              "        [  5,   6,   7,   8]]),\n",
              " array([[100,   2],\n",
              "        [  3,   4],\n",
              "        [  5,   6],\n",
              "        [  7,   8]]))"
            ]
          },
          "metadata": {},
          "execution_count": 81
        }
      ]
    },
    {
      "cell_type": "code",
      "source": [
        "#  Create a NumPy array `data` of shape (3, 4) with random integers. Extract a copy `data_copy` of\n",
        "# elements greater than 5. Modify an element in `data_copy` and verify if it affects the original `data`.\n",
        "data = np.random.randint(1, 10, size=(3, 4))\n",
        "data_copy = data[data > 5].copy()\n",
        "data_copy[0] = 999\n",
        "(data, data_copy)\n"
      ],
      "metadata": {
        "colab": {
          "base_uri": "https://localhost:8080/"
        },
        "id": "STB31uZmQ_95",
        "outputId": "1ebbf426-e0bc-4b8d-a03a-1f33666b0c91"
      },
      "execution_count": 82,
      "outputs": [
        {
          "output_type": "execute_result",
          "data": {
            "text/plain": [
              "(array([[5, 1, 5, 3],\n",
              "        [7, 7, 3, 2],\n",
              "        [9, 5, 7, 9]]),\n",
              " array([999,   7,   9,   7,   9]))"
            ]
          },
          "metadata": {},
          "execution_count": 82
        }
      ]
    },
    {
      "cell_type": "code",
      "source": [
        "# Create two matrices A and B of identical shape containing integers and perform addition and subtraction\n",
        "# operations between them.\n",
        "A = np.random.randint(1, 10, size=(3, 3))\n",
        "B = np.random.randint(1, 10, size=(3, 3))\n",
        "addition_result = A + B\n",
        "subtraction_result = A - B\n",
        "(addition_result, subtraction_result)\n"
      ],
      "metadata": {
        "colab": {
          "base_uri": "https://localhost:8080/"
        },
        "id": "8PfK9dlpRAAK",
        "outputId": "6349fe23-42ef-4165-d87f-b0946615ccf3"
      },
      "execution_count": 83,
      "outputs": [
        {
          "output_type": "execute_result",
          "data": {
            "text/plain": [
              "(array([[ 6, 12,  9],\n",
              "        [14, 11,  8],\n",
              "        [ 5,  6, 11]]),\n",
              " array([[ 2, -4,  1],\n",
              "        [ 4, -3,  2],\n",
              "        [ 1,  4,  3]]))"
            ]
          },
          "metadata": {},
          "execution_count": 83
        }
      ]
    },
    {
      "cell_type": "code",
      "source": [
        "# Generate two matrices `C` (3x2) and `D` (2x4) and perform matrix multiplication.\n",
        "C = np.random.randint(1, 10, size=(3, 2))\n",
        "D = np.random.randint(1, 10, size=(2, 4))\n",
        "matrix_multiplication_result = np.dot(C, D)\n",
        "matrix_multiplication_result\n"
      ],
      "metadata": {
        "colab": {
          "base_uri": "https://localhost:8080/"
        },
        "id": "Th4h7sHVRADv",
        "outputId": "369eb8a9-8d98-4e7c-93dd-494dc1c668d8"
      },
      "execution_count": 84,
      "outputs": [
        {
          "output_type": "execute_result",
          "data": {
            "text/plain": [
              "array([[73, 55, 82, 49],\n",
              "       [39, 31, 43, 48],\n",
              "       [60, 46, 67, 51]])"
            ]
          },
          "metadata": {},
          "execution_count": 84
        }
      ]
    },
    {
      "cell_type": "code",
      "source": [
        "#  Create a matrix `E` and find its transpose.\n",
        "E = np.random.randint(1, 10, size=(3, 3))\n",
        "transpose_E = E.T\n",
        "transpose_E\n"
      ],
      "metadata": {
        "colab": {
          "base_uri": "https://localhost:8080/"
        },
        "id": "FQK7PiOSRsGs",
        "outputId": "06656e22-1e36-4227-bb20-3a49ff1a54bc"
      },
      "execution_count": 85,
      "outputs": [
        {
          "output_type": "execute_result",
          "data": {
            "text/plain": [
              "array([[3, 4, 2],\n",
              "       [6, 7, 7],\n",
              "       [4, 8, 2]])"
            ]
          },
          "metadata": {},
          "execution_count": 85
        }
      ]
    },
    {
      "cell_type": "code",
      "source": [
        "# Generate a square matrix `F` and compute its determinant.\n",
        "F = np.random.randint(1, 10, size=(3, 3))\n",
        "determinant_F = np.linalg.det(F)\n",
        "determinant_F\n"
      ],
      "metadata": {
        "colab": {
          "base_uri": "https://localhost:8080/"
        },
        "id": "6RWcrgk-RsS1",
        "outputId": "fe8c9edb-4c4a-4d31-cb79-46f3c67ef83c"
      },
      "execution_count": 86,
      "outputs": [
        {
          "output_type": "execute_result",
          "data": {
            "text/plain": [
              "221.0000000000001"
            ]
          },
          "metadata": {},
          "execution_count": 86
        }
      ]
    },
    {
      "cell_type": "code",
      "source": [
        "#  Create a square matrix `G` and find its inverse.\n",
        "G = np.random.randint(1, 10, size=(3, 3))\n",
        "try:\n",
        "    inverse_G = np.linalg.inv(G)\n",
        "except np.linalg.LinAlgError:\n",
        "    inverse_G = None\n",
        "inverse_G\n"
      ],
      "metadata": {
        "colab": {
          "base_uri": "https://localhost:8080/"
        },
        "id": "iCfpvgjvRsg8",
        "outputId": "34c8dfc0-1bac-4671-dbf9-8e858bb74520"
      },
      "execution_count": 87,
      "outputs": [
        {
          "output_type": "execute_result",
          "data": {
            "text/plain": [
              "array([[ 0.06918239, -0.14779874,  0.08490566],\n",
              "       [-0.10062893,  0.07861635,  0.10377358],\n",
              "       [ 0.10691824,  0.13522013, -0.14150943]])"
            ]
          },
          "metadata": {},
          "execution_count": 87
        }
      ]
    },
    {
      "cell_type": "code",
      "source": [],
      "metadata": {
        "id": "7JovqemqTUFz"
      },
      "execution_count": 87,
      "outputs": []
    }
  ]
}