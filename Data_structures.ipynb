{
  "nbformat": 4,
  "nbformat_minor": 0,
  "metadata": {
    "colab": {
      "provenance": []
    },
    "kernelspec": {
      "name": "python3",
      "display_name": "Python 3"
    },
    "language_info": {
      "name": "python"
    }
  },
  "cells": [
    {
      "cell_type": "code",
      "source": [
        "# Question 1: Write a code to reverse a string.\n",
        "\n",
        "def reverse_string(s):\n",
        "    return s[::-1]\n",
        "\n",
        "# Example\n",
        "print(reverse_string(\"Hello\"))"
      ],
      "metadata": {
        "colab": {
          "base_uri": "https://localhost:8080/"
        },
        "id": "1RpvN10_q8w9",
        "outputId": "fafadfe2-b6c4-47a9-dc4b-f2737a77e4fe"
      },
      "execution_count": 29,
      "outputs": [
        {
          "output_type": "stream",
          "name": "stdout",
          "text": [
            "olleH\n"
          ]
        }
      ]
    },
    {
      "cell_type": "markdown",
      "source": [],
      "metadata": {
        "id": "kR4Nk6nJrPSZ"
      }
    },
    {
      "cell_type": "code",
      "source": [
        "# Question 2: Write a code to count the number of vowels in a string.\n",
        "\n",
        "def count_vowels(s):\n",
        "    vowels = \"aeiouAEIOU\"\n",
        "    return sum(1 for char in s if char in vowels)\n",
        "\n",
        "# Example\n",
        "print(count_vowels(\"Hello World\"))"
      ],
      "metadata": {
        "colab": {
          "base_uri": "https://localhost:8080/"
        },
        "id": "g2HVjatdrPtc",
        "outputId": "d62f92b2-0c67-4741-b58f-005271d32943"
      },
      "execution_count": 30,
      "outputs": [
        {
          "output_type": "stream",
          "name": "stdout",
          "text": [
            "3\n"
          ]
        }
      ]
    },
    {
      "cell_type": "code",
      "source": [
        "# Question 3: Write a code to check if a given string is a palindrome or not.\n",
        "\n",
        "def is_palindrome(s):\n",
        "    return s == s[::-1]\n",
        "\n",
        "# Example\n",
        "print(is_palindrome(\"radar\"))\n",
        "print(is_palindrome(\"hello\"))"
      ],
      "metadata": {
        "colab": {
          "base_uri": "https://localhost:8080/"
        },
        "id": "6ZaH0eqnrPv-",
        "outputId": "6aedbd66-7c5c-4245-cbe6-38637069bcea"
      },
      "execution_count": 31,
      "outputs": [
        {
          "output_type": "stream",
          "name": "stdout",
          "text": [
            "True\n",
            "False\n"
          ]
        }
      ]
    },
    {
      "cell_type": "code",
      "source": [
        "\n",
        "# Question 4: Write a code to check if two given strings are anagrams of each other.\n",
        "\n",
        "def are_anagrams(s1, s2):\n",
        "    return sorted(s1) == sorted(s2)\n",
        "\n",
        "# Example\n",
        "print(are_anagrams(\"listen\", \"silent\"))\n",
        "print(are_anagrams(\"hello\", \"world\"))"
      ],
      "metadata": {
        "colab": {
          "base_uri": "https://localhost:8080/"
        },
        "id": "fLw49RMUrPym",
        "outputId": "17c574bf-e32b-4f8b-9b22-3bde360faf2d"
      },
      "execution_count": 32,
      "outputs": [
        {
          "output_type": "stream",
          "name": "stdout",
          "text": [
            "True\n",
            "False\n"
          ]
        }
      ]
    },
    {
      "cell_type": "code",
      "source": [
        "# Question 5: Write a code to find all occurrences of a given substring within another string.\n",
        "\n",
        "def find_substring_occurrences(s, sub):\n",
        "    occurrences = []\n",
        "    index = s.find(sub)\n",
        "    while index != -1:\n",
        "        occurrences.append(index)\n",
        "        index = s.find(sub, index + 1)\n",
        "    return occurrences\n",
        "# Example\n",
        "print(find_substring_occurrences(\"hello hello\", \"lo\"))"
      ],
      "metadata": {
        "colab": {
          "base_uri": "https://localhost:8080/"
        },
        "id": "AUVC6fUnrP2E",
        "outputId": "10e80a91-971d-475d-b786-eea85237fc3e"
      },
      "execution_count": 33,
      "outputs": [
        {
          "output_type": "stream",
          "name": "stdout",
          "text": [
            "[3, 9]\n"
          ]
        }
      ]
    },
    {
      "cell_type": "code",
      "source": [
        "\n",
        "# Question 6: Write a code to perform basic string compression using the counts of repeated characters.\n",
        "\n",
        "def compress_string(s):\n",
        "    compressed = []\n",
        "    count = 1\n",
        "    for i in range(1, len(s)):\n",
        "        if s[i] == s[i - 1]:\n",
        "            count += 1\n",
        "        else:\n",
        "            compressed.append(s[i - 1] + str(count))\n",
        "            count = 1\n",
        "    compressed.append(s[-1] + str(count))\n",
        "    return ''.join(compressed)\n",
        "\n",
        "# Example\n",
        "print(compress_string(\"aaabbcc\"))"
      ],
      "metadata": {
        "colab": {
          "base_uri": "https://localhost:8080/"
        },
        "id": "tLNt4qggrP47",
        "outputId": "14ecbaca-5cdf-4299-e835-8e849627ab96"
      },
      "execution_count": 34,
      "outputs": [
        {
          "output_type": "stream",
          "name": "stdout",
          "text": [
            "a3b2c2\n"
          ]
        }
      ]
    },
    {
      "cell_type": "code",
      "source": [
        "# Question 7: Write a code to determine if a string has all unique characters.\n",
        "\n",
        "def has_unique_chars(s):\n",
        "    return len(s) == len(set(s))\n",
        "\n",
        "# Example\n",
        "print(has_unique_chars(\"abcde\"))\n",
        "print(has_unique_chars(\"abcdea\"))"
      ],
      "metadata": {
        "colab": {
          "base_uri": "https://localhost:8080/"
        },
        "id": "TElmN_5XrP7w",
        "outputId": "6b0e67bc-13e3-45a0-fcd4-d88834a756a3"
      },
      "execution_count": 35,
      "outputs": [
        {
          "output_type": "stream",
          "name": "stdout",
          "text": [
            "True\n",
            "False\n"
          ]
        }
      ]
    },
    {
      "cell_type": "code",
      "source": [
        " # Question 8: Write a code to convert a given string to uppercase or lowercase.\n",
        "\n",
        "\n",
        "def to_uppercase(s):\n",
        "    return s.upper()\n",
        "\n",
        "def to_lowercase(s):\n",
        "    return s.lower()\n",
        "\n",
        "# Example usage\n",
        "print(to_uppercase(\"hello\"))  # Output: \"HELLO\"\n",
        "print(to_lowercase(\"HELLO\"))  # Output: \"hello\""
      ],
      "metadata": {
        "colab": {
          "base_uri": "https://localhost:8080/"
        },
        "id": "aDcG4AxyrP-n",
        "outputId": "389efe35-cca8-4e15-a346-086e11045aae"
      },
      "execution_count": 36,
      "outputs": [
        {
          "output_type": "stream",
          "name": "stdout",
          "text": [
            "HELLO\n",
            "hello\n"
          ]
        }
      ]
    },
    {
      "cell_type": "code",
      "source": [
        "# Question 9: Write a code to count the number of words in a string.\n",
        "\n",
        "def count_words(s):\n",
        "    return len(s.split())\n",
        "\n",
        "# Example\n",
        "print(count_words(\"Hello World\"))"
      ],
      "metadata": {
        "colab": {
          "base_uri": "https://localhost:8080/"
        },
        "id": "clTRqtpUrQBi",
        "outputId": "39e5b239-749b-4041-f400-04f185094650"
      },
      "execution_count": 37,
      "outputs": [
        {
          "output_type": "stream",
          "name": "stdout",
          "text": [
            "2\n"
          ]
        }
      ]
    },
    {
      "cell_type": "code",
      "source": [
        "# Question 10: Write a code to concatenate two strings without using the + operator.\n",
        "\n",
        "def concatenate_strings(s1, s2):\n",
        "    return \"{}{}\".format(s1, s2)\n",
        "\n",
        "# Example\n",
        "print(concatenate_strings(\"Hello\", \"World\"))"
      ],
      "metadata": {
        "colab": {
          "base_uri": "https://localhost:8080/"
        },
        "id": "gSnFl3rwrQEb",
        "outputId": "47bad8ba-68b9-499c-c31d-d0054e6e1e86"
      },
      "execution_count": 38,
      "outputs": [
        {
          "output_type": "stream",
          "name": "stdout",
          "text": [
            "HelloWorld\n"
          ]
        }
      ]
    },
    {
      "cell_type": "code",
      "source": [
        "\n",
        "# Question 11: Write a code to remove all occurrences of a specific element from a list.\n",
        "\n",
        "def remove_element(lst, element):\n",
        "    return [x for x in lst if x != element]\n",
        "\n",
        "# Example\n",
        "print(remove_element([1, 2, 3, 4, 2], 2))"
      ],
      "metadata": {
        "colab": {
          "base_uri": "https://localhost:8080/"
        },
        "id": "INyxbtoFrQG_",
        "outputId": "8612d0b9-db3b-43a7-8a9f-b505ee9988fe"
      },
      "execution_count": 39,
      "outputs": [
        {
          "output_type": "stream",
          "name": "stdout",
          "text": [
            "[1, 3, 4]\n"
          ]
        }
      ]
    },
    {
      "cell_type": "code",
      "source": [
        "# Question 12: Implement a code to find the second largest number in a given list of integers.\n",
        "\n",
        "def find_second_largest(lst):\n",
        "    unique_lst = list(set(lst))\n",
        "    unique_lst.sort()\n",
        "    return unique_lst[-2] if len(unique_lst) >= 2 else None\n",
        "\n",
        "# Example\n",
        "print(find_second_largest([1, 3, 4, 5, 0, 2]))"
      ],
      "metadata": {
        "colab": {
          "base_uri": "https://localhost:8080/"
        },
        "id": "hHzPoVjErQKH",
        "outputId": "8e8c757e-e52a-416a-e0dd-7acf61269d22"
      },
      "execution_count": 40,
      "outputs": [
        {
          "output_type": "stream",
          "name": "stdout",
          "text": [
            "4\n"
          ]
        }
      ]
    },
    {
      "cell_type": "code",
      "source": [
        " # Question 13: Create a code to count the occurrences of each element in a list and return a dictionary with elements as keys and their counts as values.\n",
        "\n",
        "def count_occurrences(lst):\n",
        "    occurrences = {}\n",
        "    for item in lst:\n",
        "        occurrences[item] = occurrences.get(item, 0) + 1\n",
        "    return occurrences"
      ],
      "metadata": {
        "id": "vF6ZRWpsrQM-"
      },
      "execution_count": 41,
      "outputs": []
    },
    {
      "cell_type": "code",
      "source": [
        "# Question 14: Write a code to reverse a list in-place without using any built-in reverse functions.\n",
        "\n",
        "\n",
        "def reverse_list(lst):\n",
        "    start, end = 0, len(lst) - 1\n",
        "    while start < end:\n",
        "        lst[start], lst[end] = lst[end], lst[start]\n",
        "        start += 1\n",
        "        end -= 1\n",
        "    return lst\n",
        "\n",
        "# Example\n",
        "print(reverse_list([1, 2, 3, 4, 5]))"
      ],
      "metadata": {
        "colab": {
          "base_uri": "https://localhost:8080/"
        },
        "id": "OVhkfDhZrQQi",
        "outputId": "8c0cf9b5-4056-46d0-a248-7c2756f2236d"
      },
      "execution_count": 42,
      "outputs": [
        {
          "output_type": "stream",
          "name": "stdout",
          "text": [
            "[5, 4, 3, 2, 1]\n"
          ]
        }
      ]
    },
    {
      "cell_type": "code",
      "source": [
        "# Question 15: Implement a code to find and remove duplicates from a list while preserving the original order of elements.\n",
        "\n",
        "def remove_duplicates(lst):\n",
        "    seen = set()\n",
        "    result = []\n",
        "    for item in lst:\n",
        "        if item not in seen:\n",
        "            result.append(item)\n",
        "            seen.add(item)\n",
        "    return result\n",
        "\n",
        "# Example\n",
        "print(remove_duplicates([1, 2, 2, 3, 4, 4, 4, 5]))"
      ],
      "metadata": {
        "colab": {
          "base_uri": "https://localhost:8080/"
        },
        "id": "gsUvhGnOrEpz",
        "outputId": "ab93582d-9e5f-4b4d-dac6-92124fdd8aba"
      },
      "execution_count": 43,
      "outputs": [
        {
          "output_type": "stream",
          "name": "stdout",
          "text": [
            "[1, 2, 3, 4, 5]\n"
          ]
        }
      ]
    },
    {
      "cell_type": "code",
      "source": [
        "# Question 16: Create a code to check if a given list is sorted (either in ascending or descending order) or not.\n",
        "\n",
        "def is_sorted(lst):\n",
        "    return lst == sorted(lst) or lst == sorted(lst, reverse=True)\n",
        "\n",
        "# Example\n",
        "print(is_sorted([1, 2, 3, 4, 5]))\n",
        "print(is_sorted([5, 4, 3, 2, 1]))\n",
        "print(is_sorted([1, 3, 2]))"
      ],
      "metadata": {
        "colab": {
          "base_uri": "https://localhost:8080/"
        },
        "id": "5eNM0jdSrEsv",
        "outputId": "37fe8c67-3292-4056-c65c-783f0606afb1"
      },
      "execution_count": 44,
      "outputs": [
        {
          "output_type": "stream",
          "name": "stdout",
          "text": [
            "True\n",
            "True\n",
            "False\n"
          ]
        }
      ]
    },
    {
      "cell_type": "code",
      "source": [
        " # Question 17: Write a code to merge two sorted lists into a single sorted list.\n",
        "\n",
        "\n",
        "def merge_sorted_lists(lst1, lst2):\n",
        "    return sorted(lst1 + lst2)\n",
        "\n",
        "# Example\n",
        "print(merge_sorted_lists([1, 3, 5], [2, 4, 6]))"
      ],
      "metadata": {
        "colab": {
          "base_uri": "https://localhost:8080/"
        },
        "id": "YKTTRRqbrEvl",
        "outputId": "bea2af5a-b36a-41b9-f979-a81eeb3a3b32"
      },
      "execution_count": 45,
      "outputs": [
        {
          "output_type": "stream",
          "name": "stdout",
          "text": [
            "[1, 2, 3, 4, 5, 6]\n"
          ]
        }
      ]
    },
    {
      "cell_type": "code",
      "source": [
        "# Question 18: Implement a code to find the intersection of two given lists.\n",
        "\n",
        "\n",
        "def find_intersection(lst1, lst2):\n",
        "    return list(set(lst1) & set(lst2))\n",
        "\n",
        "# Example\n",
        "print(find_intersection([1, 2, 3], [2, 3, 4]))"
      ],
      "metadata": {
        "colab": {
          "base_uri": "https://localhost:8080/"
        },
        "id": "ns2ig8hrrEyI",
        "outputId": "358251a7-ab2e-479a-99b4-cef97b709ec7"
      },
      "execution_count": 46,
      "outputs": [
        {
          "output_type": "stream",
          "name": "stdout",
          "text": [
            "[2, 3]\n"
          ]
        }
      ]
    },
    {
      "cell_type": "code",
      "source": [
        "# Question 19: Create a code to find the union of two lists without duplicates.\n",
        "\n",
        "\n",
        "def find_union(lst1, lst2):\n",
        "    return list(set(lst1) | set(lst2))\n",
        "\n",
        "# Example\n",
        "print(find_union([1, 2, 3], [2, 3, 4]))"
      ],
      "metadata": {
        "colab": {
          "base_uri": "https://localhost:8080/"
        },
        "id": "-Bk4F6UgrE0o",
        "outputId": "a3f03b6a-ac4b-4ad5-870a-2d4cb216bf33"
      },
      "execution_count": 47,
      "outputs": [
        {
          "output_type": "stream",
          "name": "stdout",
          "text": [
            "[1, 2, 3, 4]\n"
          ]
        }
      ]
    },
    {
      "cell_type": "code",
      "source": [
        "# Question 20: Write a code to shuffle a given list randomly without using any built-in shuffle functions.\n",
        "\n",
        "\n",
        "import random\n",
        "\n",
        "def shuffle_list(lst):\n",
        "    shuffled_lst = lst[:]\n",
        "    for i in range(len(shuffled_lst)):\n",
        "        swap_idx = random.randint(0, len(shuffled_lst) - 1)\n",
        "        shuffled_lst[i], shuffled_lst[swap_idx] = shuffled_lst[swap_idx], shuffled_lst[i]\n",
        "    return shuffled_lst\n",
        "\n",
        "# Example\n",
        "print(shuffle_list([1, 2, 3, 4, 5]))"
      ],
      "metadata": {
        "colab": {
          "base_uri": "https://localhost:8080/"
        },
        "id": "EM2poMKOrE3m",
        "outputId": "a9dfe3b6-0b36-4893-e677-cb54b90e5413"
      },
      "execution_count": 48,
      "outputs": [
        {
          "output_type": "stream",
          "name": "stdout",
          "text": [
            "[5, 4, 1, 3, 2]\n"
          ]
        }
      ]
    },
    {
      "cell_type": "code",
      "source": [
        "# Question 21: Write a code that takes two tuples as input and returns a new tuple containing elements that are common to both input tuples.\n",
        "\n",
        "def tuple_intersection(tup1, tup2):\n",
        "    return tuple(set(tup1) & set(tup2))\n",
        "\n",
        "# Example\n",
        "print(tuple_intersection((1, 2, 3), (2, 3, 4)))"
      ],
      "metadata": {
        "colab": {
          "base_uri": "https://localhost:8080/"
        },
        "id": "RrneYmQ2rE6G",
        "outputId": "d1161b25-0836-4a97-b6eb-bf27c8339f11"
      },
      "execution_count": 49,
      "outputs": [
        {
          "output_type": "stream",
          "name": "stdout",
          "text": [
            "(2, 3)\n"
          ]
        }
      ]
    },
    {
      "cell_type": "code",
      "source": [
        "# Question 22: Create a code that prompts the user to enter two sets of integers separated by commas. Then, print the intersection of these two sets.\n",
        "\n",
        "def find_set_intersection():\n",
        "    set1 = set(map(int, input(\"Enter the first set of integers separated by commas: \").split(',')))\n",
        "    set2 = set(map(int, input(\"Enter the second set of integers separated by commas: \").split(',')))\n",
        "    intersection = set1 & set2\n",
        "    return intersection\n",
        "\n",
        "# Example\n",
        "print(\"Intersection:\", find_set_intersection())\n",
        "\n"
      ],
      "metadata": {
        "colab": {
          "base_uri": "https://localhost:8080/"
        },
        "id": "oO_-rnhbrE9R",
        "outputId": "5c32f084-c5cd-43fe-c84e-8e64070bfb59"
      },
      "execution_count": 50,
      "outputs": [
        {
          "output_type": "stream",
          "name": "stdout",
          "text": [
            "Enter the first set of integers separated by commas: 34\n",
            "Enter the second set of integers separated by commas: 45\n",
            "Intersection: set()\n"
          ]
        }
      ]
    },
    {
      "cell_type": "code",
      "source": [
        "# Question 23: Write a code to concatenate two tuples. The function should take two tuples as input and return a new tuple containing elements from both input tuples.\n",
        "\n",
        "def concatenate_tuples(tup1, tup2):\n",
        "    return tup1 + tup2\n",
        "\n",
        "# Example\n",
        "print(concatenate_tuples((1, 2, 3), (4, 5, 6)))\n",
        "\n"
      ],
      "metadata": {
        "colab": {
          "base_uri": "https://localhost:8080/"
        },
        "id": "hHgHgS2irFAH",
        "outputId": "ecaa9287-ab1b-4d61-c0f6-007c48e5d851"
      },
      "execution_count": 51,
      "outputs": [
        {
          "output_type": "stream",
          "name": "stdout",
          "text": [
            "(1, 2, 3, 4, 5, 6)\n"
          ]
        }
      ]
    },
    {
      "cell_type": "code",
      "source": [
        "  # Question 24: Develop a code that prompts the user to input two sets of strings. Then, print the elements that are present in the first set but not in the second set.\n",
        "def find_difference_of_sets():\n",
        "    set1 = set(input(\"Enter the first set of strings separated by commas: \").split(','))\n",
        "    set2 = set(input(\"Enter the second set of strings separated by commas: \").split(','))\n",
        "    difference = set1 - set2\n",
        "    return difference\n",
        "\n",
        "# Example\n",
        "print(\"Difference:\", find_difference_of_sets())\n"
      ],
      "metadata": {
        "colab": {
          "base_uri": "https://localhost:8080/"
        },
        "id": "_FC5NG70rFDa",
        "outputId": "a5351715-bbdb-481c-8410-3bfb2eeb5eb3"
      },
      "execution_count": 52,
      "outputs": [
        {
          "output_type": "stream",
          "name": "stdout",
          "text": [
            "Enter the first set of strings separated by commas: 4\n",
            "Enter the second set of strings separated by commas: 6\n",
            "Difference: {'4'}\n"
          ]
        }
      ]
    },
    {
      "cell_type": "code",
      "source": [
        "# Question 25: Create a code that takes a tuple and two integers as input. The function\n",
        "# should return a new tuple containing elements from the original tuple within the specified range of indices.\n",
        "\n",
        "def slice_tuple(tup, start, end):\n",
        "    return tup[start:end]\n",
        "\n",
        "# Example\n",
        "print(slice_tuple((1, 2, 3, 4, 5), 1, 4))"
      ],
      "metadata": {
        "colab": {
          "base_uri": "https://localhost:8080/"
        },
        "id": "EouSI_XSrFG4",
        "outputId": "728fda7d-1c18-4d48-b934-5600b1b9a01d"
      },
      "execution_count": 53,
      "outputs": [
        {
          "output_type": "stream",
          "name": "stdout",
          "text": [
            "(2, 3, 4)\n"
          ]
        }
      ]
    },
    {
      "cell_type": "code",
      "source": [
        "# Question 26: Write a code that prompts the user to input two sets of characters. Then, print the union of these two sets.\n",
        "\n",
        "def find_union_of_sets():\n",
        "    set1 = set(input(\"Enter the first set of characters separated by commas: \").split(','))\n",
        "    set2 = set(input(\"Enter the second set of characters separated by commas: \").split(','))\n",
        "    union = set1 | set2\n",
        "    return union\n",
        "\n",
        "# Example\n",
        "print(\"Union:\", find_union_of_sets())\n",
        "\n"
      ],
      "metadata": {
        "colab": {
          "base_uri": "https://localhost:8080/"
        },
        "id": "LQvn7sbtrFKe",
        "outputId": "9e8bf01f-4b4c-4ba9-819a-bd94862165c1"
      },
      "execution_count": 54,
      "outputs": [
        {
          "output_type": "stream",
          "name": "stdout",
          "text": [
            "Enter the first set of characters separated by commas: 3\n",
            "Enter the second set of characters separated by commas: 7\n",
            "Union: {'7', '3'}\n"
          ]
        }
      ]
    },
    {
      "cell_type": "code",
      "source": [
        "# Question 27: Develop a code that takes a tuple of integers as input. The function should return the maximum and minimum values from the tuple using tuple unpacking.\n",
        "\n",
        "def find_max_min(tup):\n",
        "    return max(tup), min(tup)\n",
        "\n",
        "# Example\n",
        "max_val, min_val = find_max_min((3, 1, 4, 1, 5, 9))\n",
        "print(\"Max:\", max_val)\n",
        "print(\"Min:\", min_val)\n"
      ],
      "metadata": {
        "colab": {
          "base_uri": "https://localhost:8080/"
        },
        "id": "7JkSKe9pwSWy",
        "outputId": "e6f7105a-f7f2-4144-9921-bbb26772f1df"
      },
      "execution_count": 55,
      "outputs": [
        {
          "output_type": "stream",
          "name": "stdout",
          "text": [
            "Max: 9\n",
            "Min: 1\n"
          ]
        }
      ]
    },
    {
      "cell_type": "code",
      "source": [
        "# Question 28: Create a code that defines two sets of integers. Then, print the union, intersection, and difference of these two sets.\n",
        "\n",
        "def set_operations():\n",
        "    set1 = {1, 2, 3, 4, 5}\n",
        "    set2 = {4, 5, 6, 7, 8}\n",
        "    union = set1 | set2\n",
        "    intersection = set1 & set2\n",
        "    difference = set1 - set2\n",
        "    return union, intersection, difference\n",
        "\n",
        "# Example\n",
        "union, intersection, difference = set_operations()\n",
        "print(\"Union:\", union)\n",
        "print(\"Intersection:\", intersection)\n",
        "print(\"Difference:\", difference)\n"
      ],
      "metadata": {
        "colab": {
          "base_uri": "https://localhost:8080/"
        },
        "id": "hk_WobmowSZS",
        "outputId": "1507f6b0-ba88-4d4e-d531-b6a86ade2e4c"
      },
      "execution_count": 56,
      "outputs": [
        {
          "output_type": "stream",
          "name": "stdout",
          "text": [
            "Union: {1, 2, 3, 4, 5, 6, 7, 8}\n",
            "Intersection: {4, 5}\n",
            "Difference: {1, 2, 3}\n"
          ]
        }
      ]
    },
    {
      "cell_type": "code",
      "source": [
        "# Question 29: Write a code that takes a tuple and an element as input. The function should return the count of occurrences of the given element in the tuple.\n",
        "\n",
        "def count_element_in_tuple(tup, element):\n",
        "    return tup.count(element)\n",
        "\n",
        "# Example\n",
        "print(count_element_in_tuple((1, 2, 3, 2, 4, 2), 2))\n"
      ],
      "metadata": {
        "colab": {
          "base_uri": "https://localhost:8080/"
        },
        "id": "FMN0iAw2wSce",
        "outputId": "9a1f9d23-9e70-4c23-998d-36f98040b0a2"
      },
      "execution_count": 57,
      "outputs": [
        {
          "output_type": "stream",
          "name": "stdout",
          "text": [
            "3\n"
          ]
        }
      ]
    },
    {
      "cell_type": "code",
      "source": [
        "# Question 30: Develop a code that prompts the user to input two sets of strings. Then, print the symmetric difference of these two sets\n",
        "\n",
        "def find_symmetric_difference():\n",
        "    set1 = set(input(\"Enter the first set of strings separated by commas: \").split(','))\n",
        "    set2 = set(input(\"Enter the second set of strings separated by commas: \").split(','))\n",
        "    sym_diff = set1 ^ set2\n",
        "    return sym_diff\n",
        "\n",
        "# Example\n",
        "print(\"Symmetric Difference:\", find_symmetric_difference())\n",
        "\n"
      ],
      "metadata": {
        "colab": {
          "base_uri": "https://localhost:8080/"
        },
        "id": "wCmzHiu-wSfG",
        "outputId": "6a2e88b9-cc01-4db5-b737-271e328200ef"
      },
      "execution_count": 58,
      "outputs": [
        {
          "output_type": "stream",
          "name": "stdout",
          "text": [
            "Enter the first set of strings separated by commas: 3\n",
            "Enter the second set of strings separated by commas: 2\n",
            "Symmetric Difference: {'3', '2'}\n"
          ]
        }
      ]
    },
    {
      "cell_type": "code",
      "source": [
        "# Question 31: Write a code that takes a list of words as input and returns a\n",
        "#  dictionary where the keys are unique words and the values are the frequencies of those words in the input list.\n",
        "\n",
        "def word_frequencies(words):\n",
        "    freq_dict = {}\n",
        "    for word in words:\n",
        "        freq_dict[word] = freq_dict.get(word, 0) + 1\n",
        "    return freq_dict\n",
        "\n",
        "# Example\n",
        "print(word_frequencies([\"apple\", \"banana\", \"apple\", \"orange\", \"banana\", \"apple\"]))\n",
        "\n"
      ],
      "metadata": {
        "colab": {
          "base_uri": "https://localhost:8080/"
        },
        "id": "hn-1Ldm0wShm",
        "outputId": "2eb28c96-5f3b-4c9d-eda8-6104d52f0b96"
      },
      "execution_count": 59,
      "outputs": [
        {
          "output_type": "stream",
          "name": "stdout",
          "text": [
            "{'apple': 3, 'banana': 2, 'orange': 1}\n"
          ]
        }
      ]
    },
    {
      "cell_type": "code",
      "source": [
        "#  Question 32: Write a code that takes two dictionaries as input and merges them into a single dictionary. If there are common keys, the values should be added together.\n",
        "\n",
        "def merge_dictionaries(dict1, dict2):\n",
        "    merged_dict = dict1.copy()\n",
        "    for key, value in dict2.items():\n",
        "        merged_dict[key] = merged_dict.get(key, 0) + value\n",
        "    return merged_dict\n",
        "\n",
        "# Example\n",
        "dict1 = {'a': 1, 'b': 2, 'c': 3}\n",
        "dict2 = {'b': 3, 'c': 4, 'd': 5}\n",
        "print(merge_dictionaries(dict1, dict2))\n",
        "\n"
      ],
      "metadata": {
        "colab": {
          "base_uri": "https://localhost:8080/"
        },
        "id": "shhmhgO3wSky",
        "outputId": "ac105dc2-8547-4982-852f-ccf2f2390a77"
      },
      "execution_count": 60,
      "outputs": [
        {
          "output_type": "stream",
          "name": "stdout",
          "text": [
            "{'a': 1, 'b': 5, 'c': 7, 'd': 5}\n"
          ]
        }
      ]
    },
    {
      "cell_type": "code",
      "source": [
        "# Question 33: Write a code to access a value in a nested dictionary. The function should\n",
        "# take the dictionary and a list of keys as input, and return the corresponding value.\n",
        "#  If any of the keys do not exist in the dictionary, the function should return None\n",
        "\n",
        "\n",
        "def get_nested_value(d, keys):\n",
        "    for key in keys:\n",
        "        if isinstance(d, dict) and key in d:\n",
        "            d = d[key]\n",
        "        else:\n",
        "            return None\n",
        "    return d\n",
        "\n",
        "# Example\n",
        "nested_dict = {'a': {'b': {'c': 42}}}\n",
        "keys = ['a', 'b', 'c']\n",
        "print(get_nested_value(nested_dict, keys))\n",
        "print(get_nested_value(nested_dict, ['a', 'x', 'c']))\n"
      ],
      "metadata": {
        "colab": {
          "base_uri": "https://localhost:8080/"
        },
        "id": "vOWL3mZxwSns",
        "outputId": "cff10635-b663-470d-a659-268342551eeb"
      },
      "execution_count": 61,
      "outputs": [
        {
          "output_type": "stream",
          "name": "stdout",
          "text": [
            "42\n",
            "None\n"
          ]
        }
      ]
    },
    {
      "cell_type": "code",
      "source": [
        "# Question 34: Write a code that takes a dictionary as input and returns a sorted\n",
        "#version of it based on the values. You can choose whether to sort in ascending or descending order.\n",
        "\n",
        "def sort_dict_by_value(d, ascending=True):\n",
        "    return dict(sorted(d.items(), key=lambda item: item[1], reverse=not ascending))\n",
        "\n",
        "# Example\n",
        "dict_to_sort = {'a': 3, 'b': 1, 'c': 2}\n",
        "print(sort_dict_by_value(dict_to_sort))\n",
        "print(sort_dict_by_value(dict_to_sort, ascending=False))\n"
      ],
      "metadata": {
        "colab": {
          "base_uri": "https://localhost:8080/"
        },
        "id": "F8_0D8c_wSp8",
        "outputId": "293c5c46-9aa3-474f-dfde-7a859912e7ba"
      },
      "execution_count": 62,
      "outputs": [
        {
          "output_type": "stream",
          "name": "stdout",
          "text": [
            "{'b': 1, 'c': 2, 'a': 3}\n",
            "{'a': 3, 'c': 2, 'b': 1}\n"
          ]
        }
      ]
    },
    {
      "cell_type": "code",
      "source": [
        "# Question 35: Write a code that inverts a dictionary, swapping keys and values.\n",
        "# Ensure that the inverted dictionary correctly handles cases where multiple keys\n",
        "# have the same value by storing the keys as a list in the inverted dictionary.\n",
        "\n",
        "def invert_dictionary(d):\n",
        "    inverted_dict = {}\n",
        "    for key, value in d.items():\n",
        "        if value in inverted_dict:\n",
        "            inverted_dict[value].append(key)\n",
        "        else:\n",
        "            inverted_dict[value] = [key]\n",
        "    return inverted_dict\n",
        "\n",
        "# Example\n",
        "dict_to_invert = {'a': 1, 'b': 2, 'c': 1}\n",
        "print(invert_dictionary(dict_to_invert))\n"
      ],
      "metadata": {
        "colab": {
          "base_uri": "https://localhost:8080/"
        },
        "id": "LksmsS1dwStc",
        "outputId": "2c6a8001-d75d-4262-800d-e2391eeb8ddd"
      },
      "execution_count": 63,
      "outputs": [
        {
          "output_type": "stream",
          "name": "stdout",
          "text": [
            "{1: ['a', 'c'], 2: ['b']}\n"
          ]
        }
      ]
    }
  ]
}